{
  "nbformat": 4,
  "nbformat_minor": 0,
  "metadata": {
    "colab": {
      "name": "cr7_Penaltis.ipynb",
      "provenance": [],
      "collapsed_sections": [],
      "authorship_tag": "ABX9TyNQwMK0x9oiCJm/Edjl3RsB",
      "include_colab_link": true
    },
    "kernelspec": {
      "name": "python3",
      "display_name": "Python 3"
    },
    "language_info": {
      "name": "python"
    }
  },
  "cells": [
    {
      "cell_type": "markdown",
      "metadata": {
        "id": "view-in-github",
        "colab_type": "text"
      },
      "source": [
        "<a href=\"https://colab.research.google.com/github/EduardoShoiti/DataScience_CR7_penaltis/blob/master/cr7_Penaltis.ipynb\" target=\"_parent\"><img src=\"https://colab.research.google.com/assets/colab-badge.svg\" alt=\"Open In Colab\"/></a>"
      ]
    },
    {
      "cell_type": "code",
      "metadata": {
        "id": "XyPIjG5lxFMy"
      },
      "source": [
        "import pandas as pd\n",
        "import numpy as np\n",
        "import matplotlib.pyplot as plt\n",
        "from matplotlib.cm import get_cmap\n",
        "from matplotlib import cm"
      ],
      "execution_count": 1,
      "outputs": []
    },
    {
      "cell_type": "markdown",
      "metadata": {
        "id": "BvGGDnf09J_6"
      },
      "source": [
        "## Criação e limpeza do DataFrame "
      ]
    },
    {
      "cell_type": "code",
      "metadata": {
        "id": "A27RdmQCx_OE"
      },
      "source": [
        "dataset = pd.read_csv('Ronaldo_penalties.csv')"
      ],
      "execution_count": 2,
      "outputs": []
    },
    {
      "cell_type": "code",
      "metadata": {
        "id": "T7Hn37riycc5"
      },
      "source": [
        "dataset.head()"
      ],
      "execution_count": null,
      "outputs": []
    },
    {
      "cell_type": "code",
      "metadata": {
        "id": "3QI7U4807aOY"
      },
      "source": [
        "# Transformando Date para tipo datatime\n",
        "dataset['Date'] = pd.to_datetime(dataset['Date'])"
      ],
      "execution_count": 4,
      "outputs": []
    },
    {
      "cell_type": "code",
      "metadata": {
        "id": "OZb9clys7u3V"
      },
      "source": [
        "dataset.dtypes"
      ],
      "execution_count": null,
      "outputs": []
    },
    {
      "cell_type": "code",
      "metadata": {
        "id": "dvGhdEJnydUo"
      },
      "source": [
        "dataset[dataset.isnull()].sum()"
      ],
      "execution_count": null,
      "outputs": []
    },
    {
      "cell_type": "code",
      "metadata": {
        "id": "TLjQeLWbzIZP"
      },
      "source": [
        "df = dataset[['Season', 'Date', 'Competition', 'Club', 'Against', 'Minute', 'Success?', 'Foot', 'Goalkeeper', 'Score at this moment', 'Final result']]"
      ],
      "execution_count": 7,
      "outputs": []
    },
    {
      "cell_type": "code",
      "metadata": {
        "id": "Xyjp4vdO7icY"
      },
      "source": [
        "df.columns = ['Temporada', 'Data', 'Competicao', 'Clube', 'Adversario', 'Minuto', 'Gol?', 'Pe', 'Goleiro', 'Placar no momento', 'Resultado Final']"
      ],
      "execution_count": 8,
      "outputs": []
    },
    {
      "cell_type": "code",
      "metadata": {
        "id": "j9ie0PEJ8uzy"
      },
      "source": [
        "df.head()"
      ],
      "execution_count": null,
      "outputs": []
    },
    {
      "cell_type": "markdown",
      "metadata": {
        "id": "5J623ePQ-ILI"
      },
      "source": [
        "## Separando pênaltis por clube"
      ]
    },
    {
      "cell_type": "code",
      "metadata": {
        "colab": {
          "base_uri": "https://localhost:8080/"
        },
        "id": "7Ddqj25mx0vF",
        "outputId": "5a1b5d99-3dab-4527-d4a9-1dbe9f718107"
      },
      "source": [
        "df['Clube'].unique()"
      ],
      "execution_count": 10,
      "outputs": [
        {
          "output_type": "execute_result",
          "data": {
            "text/plain": [
              "array(['Portugal', 'Juventus FC', 'Real Madrid', 'Manchester United'],\n",
              "      dtype=object)"
            ]
          },
          "metadata": {},
          "execution_count": 10
        }
      ]
    },
    {
      "cell_type": "code",
      "metadata": {
        "id": "mEx-M8mHFlOq"
      },
      "source": [
        "df_portugal = df[df['Clube'] == 'Portugal']\n",
        "df_portugal.reset_index(drop = True, inplace = True)\n",
        "df_portugal.head()"
      ],
      "execution_count": null,
      "outputs": []
    },
    {
      "cell_type": "code",
      "metadata": {
        "id": "GLsr1NEfOhXY"
      },
      "source": [
        "df_manchesterU = df[df['Clube'] == 'Manchester United']\n",
        "df_manchesterU.reset_index(drop = True, inplace = True)\n",
        "df_manchesterU.head()"
      ],
      "execution_count": null,
      "outputs": []
    },
    {
      "cell_type": "code",
      "metadata": {
        "id": "KrG_e_wbTNgQ"
      },
      "source": [
        "df_real_madrid = df[df['Clube'] == 'Real Madrid']\n",
        "df_real_madrid.reset_index(drop = True, inplace = True)\n",
        "df_real_madrid.head()"
      ],
      "execution_count": null,
      "outputs": []
    },
    {
      "cell_type": "code",
      "metadata": {
        "id": "PIOxh63qT5n2"
      },
      "source": [
        "df_juventus = df[df['Clube'] == 'Juventus FC']\n",
        "df_juventus.reset_index(drop = True, inplace = True)\n",
        "df_juventus.head()"
      ],
      "execution_count": null,
      "outputs": []
    },
    {
      "cell_type": "markdown",
      "metadata": {
        "id": "BbXLDdpqecKm"
      },
      "source": [
        "## Análise por clube"
      ]
    },
    {
      "cell_type": "markdown",
      "metadata": {
        "id": "HbgQRrqmZvMP"
      },
      "source": [
        "### Portugal"
      ]
    },
    {
      "cell_type": "code",
      "metadata": {
        "colab": {
          "base_uri": "https://localhost:8080/"
        },
        "id": "rBg_aB0Qz0Hx",
        "outputId": "5f1fb1ac-c0ff-4328-d422-9ccbaa85c9ac"
      },
      "source": [
        "total_gols_portugal =  df_portugal['Gol?'].sum()\n",
        "total_cobrancas_portugal = df_portugal['Gol?'].count()\n",
        "print(f'Cobranças: {total_cobrancas_portugal} | Gols: {total_gols_portugal}')"
      ],
      "execution_count": 15,
      "outputs": [
        {
          "output_type": "stream",
          "name": "stdout",
          "text": [
            "Cobranças: 20 | Gols: 14\n"
          ]
        }
      ]
    },
    {
      "cell_type": "code",
      "metadata": {
        "colab": {
          "base_uri": "https://localhost:8080/",
          "height": 444
        },
        "id": "oOmq8wBNOmvp",
        "outputId": "11c30540-68a1-426c-db3d-ea29233ceaac"
      },
      "source": [
        "plt.figure(figsize = (10, 7))\n",
        "\n",
        "names = ['Cobranças', 'Gols']\n",
        "valores = [total_cobrancas_portugal, total_gols_portugal]\n",
        "\n",
        "plt.bar(names, valores)\n",
        "plt.yticks(np.arange(0, total_cobrancas_portugal + 1, 2))\n",
        "barlist = plt.bar(names, valores)\n",
        "barlist[0].set_color('#0a82d7')\n",
        "barlist[1].set_color('#1acf37')\n",
        "\n",
        "plt.text(x = names[0], y = valores[0]+0.2, s = total_cobrancas_portugal, fontsize = 12)\n",
        "plt.text(x = names[1], y = valores[1]+0.2, s = total_gols_portugal, fontsize = 12)\n",
        "plt.title('Cobranças x Gols (Portugal)')\n",
        "\n",
        "plt.show()"
      ],
      "execution_count": 16,
      "outputs": [
        {
          "output_type": "display_data",
          "data": {
            "image/png": "[encoded data removed]",
            "text/plain": [
              "<Figure size 720x504 with 1 Axes>"
            ]
          },
          "metadata": {
            "needs_background": "light"
          }
        }
      ]
    },
    {
      "cell_type": "markdown",
      "metadata": {
        "id": "9TQW3-Bgf7X8"
      },
      "source": [
        "### Manchester United"
      ]
    },
    {
      "cell_type": "code",
      "metadata": {
        "id": "WUchWMfqH9dr",
        "colab": {
          "base_uri": "https://localhost:8080/"
        },
        "outputId": "cba82dce-6119-4cc9-e39e-9de83d923a1b"
      },
      "source": [
        "total_cobrancas_mu = df_manchesterU['Gol?'].count()\n",
        "total_gols_mu = df_manchesterU['Gol?'].sum()\n",
        "print(f'Cobranças: {total_cobrancas_mu} | Gols: {total_gols_mu}')"
      ],
      "execution_count": 17,
      "outputs": [
        {
          "output_type": "stream",
          "name": "stdout",
          "text": [
            "Cobranças: 20 | Gols: 17\n"
          ]
        }
      ]
    },
    {
      "cell_type": "code",
      "metadata": {
        "id": "ElLgf5tkf2UF",
        "colab": {
          "base_uri": "https://localhost:8080/",
          "height": 444
        },
        "outputId": "a66f5484-b20e-40eb-9d2f-9e2a555ea94f"
      },
      "source": [
        "plt.figure(figsize=(10, 7))\n",
        "\n",
        "names = ['Cobranças', 'Gols']\n",
        "valores = [total_cobrancas_mu, total_gols_mu]\n",
        "\n",
        "plt.bar(names, valores)\n",
        "plt.yticks(np.arange(0, total_cobrancas_mu + 1, 2))\n",
        "barlist = plt.bar(names, valores)\n",
        "barlist[0].set_color('#0a82d7')\n",
        "barlist[1].set_color('#1acf37')\n",
        "\n",
        "plt.text(x = names[0], y = valores[0]+0.2, s = total_cobrancas_mu, fontsize = 12)\n",
        "plt.text(x = names[1], y = valores[1]+0.2, s = total_gols_mu, fontsize = 12)\n",
        "plt.title('Cobranças x Gols (Manchester United)')\n",
        "\n",
        "plt.show()"
      ],
      "execution_count": 18,
      "outputs": [
        {
          "output_type": "display_data",
          "data": {
            "image/png": "[encoded data removed]",
            "text/plain": [
              "<Figure size 720x504 with 1 Axes>"
            ]
          },
          "metadata": {
            "needs_background": "light"
          }
        }
      ]
    },
    {
      "cell_type": "markdown",
      "metadata": {
        "id": "YLl5GfV3f-QG"
      },
      "source": [
        "### Real Madrid"
      ]
    },
    {
      "cell_type": "code",
      "metadata": {
        "colab": {
          "base_uri": "https://localhost:8080/"
        },
        "id": "HaZkUShTf_jD",
        "outputId": "5515f10c-6827-4e9c-d320-f11826cc0a23"
      },
      "source": [
        "total_cobrancas_real = df_real_madrid['Gol?'].count()\n",
        "total_gols_real = df_real_madrid['Gol?'].sum()\n",
        "print(f'Cobranças: {total_cobrancas_real} | Gols: {total_gols_real}')"
      ],
      "execution_count": 19,
      "outputs": [
        {
          "output_type": "stream",
          "name": "stdout",
          "text": [
            "Cobranças: 92 | Gols: 79\n"
          ]
        }
      ]
    },
    {
      "cell_type": "code",
      "metadata": {
        "id": "oCTDcrwwgYYk",
        "colab": {
          "base_uri": "https://localhost:8080/",
          "height": 444
        },
        "outputId": "1e77b3ca-b993-4f33-a5bb-57073af5173f"
      },
      "source": [
        "plt.figure(figsize=(10, 7))\n",
        "\n",
        "names = ['Cobranças', 'Gols']\n",
        "valores = [total_cobrancas_real, total_gols_real]\n",
        "\n",
        "plt.bar(names, valores)\n",
        "plt.yticks(np.arange(0, total_cobrancas_real + 1, 5))\n",
        "barlist = plt.bar(names, valores)\n",
        "barlist[0].set_color('#0a82d7')\n",
        "barlist[1].set_color('#1acf37')\n",
        "\n",
        "plt.text(x = names[0], y = valores[0]+0.6, s = total_cobrancas_real, fontsize = 12)\n",
        "plt.text(x = names[1], y = valores[1]+0.6, s = total_gols_real, fontsize = 12)\n",
        "plt.title('Cobranças x Gols (Real Madrid)')\n",
        "\n",
        "plt.show()"
      ],
      "execution_count": 20,
      "outputs": [
        {
          "output_type": "display_data",
          "data": {
            "image/png": "[encoded data removed]",
            "text/plain": [
              "<Figure size 720x504 with 1 Axes>"
            ]
          },
          "metadata": {
            "needs_background": "light"
          }
        }
      ]
    },
    {
      "cell_type": "markdown",
      "metadata": {
        "id": "7wDrKoO4ggVw"
      },
      "source": [
        "### Juventus"
      ]
    },
    {
      "cell_type": "code",
      "metadata": {
        "colab": {
          "base_uri": "https://localhost:8080/"
        },
        "id": "u9jlagzDghOT",
        "outputId": "11234732-19dd-4aca-e1fa-4e5eddd562e7"
      },
      "source": [
        "total_cobrancas_juventus = df_juventus['Gol?'].count()\n",
        "total_gols_juventus = df_juventus['Gol?'].sum()\n",
        "print(f'Cobranças: {total_cobrancas_juventus} | Gols: {total_gols_juventus}')"
      ],
      "execution_count": 21,
      "outputs": [
        {
          "output_type": "stream",
          "name": "stdout",
          "text": [
            "Cobranças: 34 | Gols: 29\n"
          ]
        }
      ]
    },
    {
      "cell_type": "code",
      "metadata": {
        "id": "u3paZaABgvvk",
        "colab": {
          "base_uri": "https://localhost:8080/",
          "height": 444
        },
        "outputId": "a447f24a-4608-4dde-acc3-48c9c110de63"
      },
      "source": [
        "plt.figure(figsize=(10, 7))\n",
        "\n",
        "names = ['Cobranças', 'Gols']\n",
        "valores = [total_cobrancas_juventus, total_gols_juventus]\n",
        "\n",
        "plt.bar(names, valores)\n",
        "plt.yticks(np.arange(0, total_cobrancas_juventus + 1, 2))\n",
        "barlist = plt.bar(names, valores)\n",
        "barlist[0].set_color('#0a82d7')\n",
        "barlist[1].set_color('#1acf37')\n",
        "\n",
        "plt.text(x = names[0], y = valores[0]+0.3, s = total_cobrancas_juventus, fontsize = 12)\n",
        "plt.text(x = names[1], y = valores[1]+0.3, s = total_gols_juventus, fontsize = 12)\n",
        "plt.title('Cobranças x Gols (Juventus)')\n",
        "\n",
        "plt.show()"
      ],
      "execution_count": 22,
      "outputs": [
        {
          "output_type": "display_data",
          "data": {
            "image/png": "[encoded data removed]",
            "text/plain": [
              "<Figure size 720x504 with 1 Axes>"
            ]
          },
          "metadata": {
            "needs_background": "light"
          }
        }
      ]
    },
    {
      "cell_type": "markdown",
      "metadata": {
        "id": "TPhZhV-ZANX3"
      },
      "source": [
        "## Gols por ano (Toda Carreira)"
      ]
    },
    {
      "cell_type": "code",
      "metadata": {
        "id": "36prlYx4_lko"
      },
      "source": [
        "df.head()"
      ],
      "execution_count": null,
      "outputs": []
    },
    {
      "cell_type": "code",
      "metadata": {
        "id": "OFzbR1mS7HVt"
      },
      "source": [
        "cobrancas_por_ano = df.groupby(df['Data'].dt.year)['Gol?'].count()\n",
        "cobrancas_por_ano"
      ],
      "execution_count": null,
      "outputs": []
    },
    {
      "cell_type": "code",
      "metadata": {
        "id": "ZCcATxUp_2uG"
      },
      "source": [
        "gols_por_ano = (df.groupby(df['Data'].dt.year)['Gol?'].sum())\n",
        "gols_por_ano"
      ],
      "execution_count": null,
      "outputs": []
    },
    {
      "cell_type": "code",
      "metadata": {
        "id": "Tcakex8MitiG"
      },
      "source": [
        "altura_gols = []\n",
        "for i in gols_por_ano:\n",
        "  altura_gols.append(i)\n",
        "\n",
        "altura_cobrancas = []\n",
        "for i in cobrancas_por_ano:\n",
        "  altura_cobrancas.append(i)\n",
        "\n",
        "posicao = []\n",
        "for i in range(len(cobrancas_por_ano)):\n",
        "  posicao.append(i)"
      ],
      "execution_count": 26,
      "outputs": []
    },
    {
      "cell_type": "code",
      "metadata": {
        "colab": {
          "base_uri": "https://localhost:8080/",
          "height": 623
        },
        "id": "gZy37mcq9XIp",
        "outputId": "852153ac-c581-48d5-ada3-367f60140d5e"
      },
      "source": [
        "plt.figure(figsize = (16, 10))\n",
        "\n",
        "barWidth = 0.4\n",
        "\n",
        "r1 = np.arange(len(cobrancas_por_ano))\n",
        "r2 = [x + barWidth for x in r1]\n",
        "\n",
        "#Criando as barras\n",
        "plt.bar(r1, height = cobrancas_por_ano, color = '#116C8A', width = barWidth, label = 'Cobranças')\n",
        "plt.bar(r2, height = gols_por_ano, color = '#6495ED', width = barWidth, label = 'Gols')\n",
        "\n",
        "#Colocando titulo, eixo Y e X\n",
        "plt.title('CR7 \\nCobranças x Gols por Ano')\n",
        "plt.yticks(np.arange(0, 21))\n",
        "plt.xticks([r + 0.2 for r in range(0, 17)], np.sort(df['Data'].dt.year.unique()))\n",
        "\n",
        "#Colocando valores em cada barra\n",
        "for j in range(len(cobrancas_por_ano)):\n",
        "  plt.text(x = posicao[j]-0.1, y = altura_cobrancas[j]+0.2, s = str(cobrancas_por_ano.iloc[j]))\n",
        "\n",
        "for i in range(len(gols_por_ano)):\n",
        "  plt.text(x = posicao[i]+0.3, y = altura_gols[i]+0.2, s = str(gols_por_ano.iloc[i]))\n",
        "\n",
        "\n",
        "plt.legend()\n",
        "\n",
        "#Salva o gráfico como img. (é preciso estar antes do plt.show() )\n",
        "plt.savefig('grafico-CobrancasXgols_porAno.png', bbox_inches='tight', dpi = 300)\n",
        "\n",
        "plt.show()"
      ],
      "execution_count": 27,
      "outputs": [
        {
          "output_type": "display_data",
          "data": {
            "image/png": "[encoded data removed]",
            "text/plain": [
              "<Figure size 1152x720 with 1 Axes>"
            ]
          },
          "metadata": {
            "needs_background": "light"
          }
        }
      ]
    },
    {
      "cell_type": "markdown",
      "metadata": {
        "id": "8binH7IjeG5E"
      },
      "source": [
        "## Top 10 Goleiros enfrentados"
      ]
    },
    {
      "cell_type": "code",
      "metadata": {
        "id": "1bix8NDZeKxR"
      },
      "source": [
        "top10_goleiros_enfrentados = pd.DataFrame(df['Goleiro'].value_counts())\n",
        "top10_goleiros_enfrentados = top10_goleiros_enfrentados.head(10)\n",
        "top10_goleiros_enfrentados"
      ],
      "execution_count": null,
      "outputs": []
    },
    {
      "cell_type": "code",
      "metadata": {
        "id": "BjK_3oyLikp7",
        "colab": {
          "base_uri": "https://localhost:8080/",
          "height": 513
        },
        "outputId": "1bf4ee55-cd3b-4bfb-903c-1ea033a1e4a0"
      },
      "source": [
        "plt.figure(figsize=(18, 8))\n",
        "\n",
        "names = top10_goleiros_enfrentados.index\n",
        "valores = top10_goleiros_enfrentados.Goleiro\n",
        "\n",
        "plt.barh(names, valores)\n",
        "\n",
        "barlist = plt.barh(names, valores)\n",
        "barlist[0].set_color('#04931b')\n",
        "barlist[1].set_color('#04931b')\n",
        "barlist[2].set_color('#bb7013')\n",
        "barlist[3].set_color('#bb7013')\n",
        "barlist[4].set_color('#bb7013')\n",
        "barlist[5].set_color('#bb7013')\n",
        "barlist[6].set_color('#e33c0a')\n",
        "barlist[7].set_color('#e33c0a')\n",
        "barlist[8].set_color('#e33c0a')\n",
        "barlist[9].set_color('#e33c0a')\n",
        "\n",
        "plt.xlabel('Quantidade de vezes enfrentados')\n",
        "plt.ylabel('Nome')\n",
        "plt.title('Top 10 Goleiros enfrentados')\n",
        "\n",
        "plt.show()"
      ],
      "execution_count": 61,
      "outputs": [
        {
          "output_type": "display_data",
          "data": {
            "image/png": "[encoded data removed]",
            "text/plain": [
              "<Figure size 1296x576 with 1 Axes>"
            ]
          },
          "metadata": {
            "needs_background": "light"
          }
        }
      ]
    },
    {
      "cell_type": "markdown",
      "metadata": {
        "id": "sBYq-qZkkY_t"
      },
      "source": [
        "## Gols por Temporada"
      ]
    },
    {
      "cell_type": "code",
      "metadata": {
        "id": "q5Oo4O3Uj6jM"
      },
      "source": [
        "gols_por_temporada = pd.DataFrame(df.groupby(df['Temporada'])['Gol?'].sum())\n",
        "gols_por_temporada"
      ],
      "execution_count": null,
      "outputs": []
    },
    {
      "cell_type": "code",
      "metadata": {
        "id": "i4HABlMeZUY4"
      },
      "source": [
        "posicao = []\n",
        "for i in range(len(gols_por_temporada.index)):\n",
        "  posicao.append(i)\n",
        "\n",
        "altura_gols = []\n",
        "for i in gols_por_temporada['Gol?']:\n",
        "  altura_gols.append(i)"
      ],
      "execution_count": 93,
      "outputs": []
    },
    {
      "cell_type": "code",
      "metadata": {
        "colab": {
          "base_uri": "https://localhost:8080/",
          "height": 499
        },
        "id": "vO9YUXF7RIZN",
        "outputId": "a0d08279-02cf-45d0-974a-3a392b34f11a"
      },
      "source": [
        "plt.figure(figsize=(14, 8))\n",
        "\n",
        "names = gols_por_temporada.index\n",
        "valores = gols_por_temporada['Gol?']\n",
        "\n",
        "plt.bar(names, valores)\n",
        "for i in range(len(gols_por_temporada['Gol?'])):\n",
        "  plt.text(x = posicao[i]-0.1, y = altura_gols[i]+0.1, s = str(gols_por_temporada['Gol?'].iloc[i]))\n",
        "\n",
        "plt.title('Gols por Temporada')\n",
        "plt.show()"
      ],
      "execution_count": 96,
      "outputs": [
        {
          "output_type": "display_data",
          "data": {
            "image/png": "[encoded data removed]",
            "text/plain": [
              "<Figure size 1008x576 with 1 Axes>"
            ]
          },
          "metadata": {
            "needs_background": "light"
          }
        }
      ]
    },
    {
      "cell_type": "markdown",
      "metadata": {
        "id": "_Ojo8lW0jnhj"
      },
      "source": [
        "# Pênaltis convertidos por Competição"
      ]
    },
    {
      "cell_type": "code",
      "metadata": {
        "colab": {
          "base_uri": "https://localhost:8080/",
          "height": 607
        },
        "id": "krQQPfeli9Od",
        "outputId": "eca1df07-1c21-408d-d970-092c4ee3846b"
      },
      "source": [
        "penaltis_por_competicao = pd.DataFrame(df.groupby(df['Competicao'])['Gol?'].count())\n",
        "penaltis_por_competicao.sort_values(['Gol?'], ascending = False, inplace = True)\n",
        "penaltis_por_competicao.rename(columns = {'Gol?': 'Gols'}, inplace = True)\n",
        "penaltis_por_competicao"
      ],
      "execution_count": 32,
      "outputs": [
        {
          "output_type": "execute_result",
          "data": {
            "text/html": [
              "<div>\n",
              "<style scoped>\n",
              "    .dataframe tbody tr th:only-of-type {\n",
              "        vertical-align: middle;\n",
              "    }\n",
              "\n",
              "    .dataframe tbody tr th {\n",
              "        vertical-align: top;\n",
              "    }\n",
              "\n",
              "    .dataframe thead th {\n",
              "        text-align: right;\n",
              "    }\n",
              "</style>\n",
              "<table border=\"1\" class=\"dataframe\">\n",
              "  <thead>\n",
              "    <tr style=\"text-align: right;\">\n",
              "      <th></th>\n",
              "      <th>Gols</th>\n",
              "    </tr>\n",
              "    <tr>\n",
              "      <th>Competicao</th>\n",
              "      <th></th>\n",
              "    </tr>\n",
              "  </thead>\n",
              "  <tbody>\n",
              "    <tr>\n",
              "      <th>LaLiga</th>\n",
              "      <td>72</td>\n",
              "    </tr>\n",
              "    <tr>\n",
              "      <th>Serie A</th>\n",
              "      <td>27</td>\n",
              "    </tr>\n",
              "    <tr>\n",
              "      <th>UEFA Champions League</th>\n",
              "      <td>22</td>\n",
              "    </tr>\n",
              "    <tr>\n",
              "      <th>Premier League</th>\n",
              "      <td>13</td>\n",
              "    </tr>\n",
              "    <tr>\n",
              "      <th>European Qualifiers</th>\n",
              "      <td>5</td>\n",
              "    </tr>\n",
              "    <tr>\n",
              "      <th>International Friendlies</th>\n",
              "      <td>4</td>\n",
              "    </tr>\n",
              "    <tr>\n",
              "      <th>World Cup qualification Europe</th>\n",
              "      <td>3</td>\n",
              "    </tr>\n",
              "    <tr>\n",
              "      <th>Coppa Italia</th>\n",
              "      <td>3</td>\n",
              "    </tr>\n",
              "    <tr>\n",
              "      <th>EURO 2020</th>\n",
              "      <td>3</td>\n",
              "    </tr>\n",
              "    <tr>\n",
              "      <th>FA Cup</th>\n",
              "      <td>3</td>\n",
              "    </tr>\n",
              "    <tr>\n",
              "      <th>Copa del Rey</th>\n",
              "      <td>3</td>\n",
              "    </tr>\n",
              "    <tr>\n",
              "      <th>EFL Cup</th>\n",
              "      <td>2</td>\n",
              "    </tr>\n",
              "    <tr>\n",
              "      <th>World Cup 2018</th>\n",
              "      <td>2</td>\n",
              "    </tr>\n",
              "    <tr>\n",
              "      <th>World Cup 2006</th>\n",
              "      <td>1</td>\n",
              "    </tr>\n",
              "    <tr>\n",
              "      <th>Confederations Cup 2017</th>\n",
              "      <td>1</td>\n",
              "    </tr>\n",
              "    <tr>\n",
              "      <th>EURO 2016</th>\n",
              "      <td>1</td>\n",
              "    </tr>\n",
              "    <tr>\n",
              "      <th>FIFA Club World Cup</th>\n",
              "      <td>1</td>\n",
              "    </tr>\n",
              "  </tbody>\n",
              "</table>\n",
              "</div>"
            ],
            "text/plain": [
              "                                Gols\n",
              "Competicao                          \n",
              "LaLiga                            72\n",
              "Serie A                           27\n",
              "UEFA Champions League             22\n",
              "Premier League                    13\n",
              "European Qualifiers                5\n",
              "International Friendlies           4\n",
              "World Cup qualification Europe     3\n",
              "Coppa Italia                       3\n",
              "EURO 2020                          3\n",
              "FA Cup                             3\n",
              "Copa del Rey                       3\n",
              "EFL Cup                            2\n",
              "World Cup 2018                     2\n",
              "World Cup 2006                     1\n",
              "Confederations Cup 2017            1\n",
              "EURO 2016                          1\n",
              "FIFA Club World Cup                1"
            ]
          },
          "metadata": {},
          "execution_count": 32
        }
      ]
    },
    {
      "cell_type": "code",
      "metadata": {
        "id": "fnkB3FlWo7L3",
        "colab": {
          "base_uri": "https://localhost:8080/"
        },
        "outputId": "3efdcc82-4a77-4bb5-a8db-acd0c5cadcd4"
      },
      "source": [
        "penaltis_por_competicao.shape[0]"
      ],
      "execution_count": 57,
      "outputs": [
        {
          "output_type": "execute_result",
          "data": {
            "text/plain": [
              "17"
            ]
          },
          "metadata": {},
          "execution_count": 57
        }
      ]
    },
    {
      "cell_type": "code",
      "metadata": {
        "id": "vggBdrr-O__Z"
      },
      "source": [
        ""
      ],
      "execution_count": null,
      "outputs": []
    }
  ]
}