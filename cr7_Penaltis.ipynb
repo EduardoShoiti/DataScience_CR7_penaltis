{
  "nbformat": 4,
  "nbformat_minor": 0,
  "metadata": {
    "colab": {
      "name": "cr7_Penaltis.ipynb",
      "provenance": [],
      "collapsed_sections": [
        "BvGGDnf09J_6"
      ],
      "authorship_tag": "ABX9TyOvEeG1mevgD0uEcsnLPpCN",
      "include_colab_link": true
    },
    "kernelspec": {
      "name": "python3",
      "display_name": "Python 3"
    },
    "language_info": {
      "name": "python"
    }
  },
  "cells": [
    {
      "cell_type": "markdown",
      "metadata": {
        "id": "view-in-github",
        "colab_type": "text"
      },
      "source": [
        "<a href=\"https://colab.research.google.com/github/EduardoShoiti/DataScience_CR7_penaltis/blob/master/cr7_Penaltis.ipynb\" target=\"_parent\"><img src=\"https://colab.research.google.com/assets/colab-badge.svg\" alt=\"Open In Colab\"/></a>"
      ]
    },
    {
      "cell_type": "code",
      "metadata": {
        "id": "XyPIjG5lxFMy"
      },
      "source": [
        "import pandas as pd"
      ],
      "execution_count": 75,
      "outputs": []
    },
    {
      "cell_type": "markdown",
      "metadata": {
        "id": "BvGGDnf09J_6"
      },
      "source": [
        "## Criação do DataFrame "
      ]
    },
    {
      "cell_type": "code",
      "metadata": {
        "id": "A27RdmQCx_OE"
      },
      "source": [
        "dataset = pd.read_csv('Ronaldo_penalties.csv')"
      ],
      "execution_count": 76,
      "outputs": []
    },
    {
      "cell_type": "code",
      "metadata": {
        "colab": {
          "base_uri": "https://localhost:8080/",
          "height": 0
        },
        "id": "T7Hn37riycc5",
        "outputId": "abd64f96-ad9d-450e-8b5d-b318b87c67cf"
      },
      "source": [
        "dataset.head()"
      ],
      "execution_count": 77,
      "outputs": [
        {
          "output_type": "execute_result",
          "data": {
            "text/html": [
              "<div>\n",
              "<style scoped>\n",
              "    .dataframe tbody tr th:only-of-type {\n",
              "        vertical-align: middle;\n",
              "    }\n",
              "\n",
              "    .dataframe tbody tr th {\n",
              "        vertical-align: top;\n",
              "    }\n",
              "\n",
              "    .dataframe thead th {\n",
              "        text-align: right;\n",
              "    }\n",
              "</style>\n",
              "<table border=\"1\" class=\"dataframe\">\n",
              "  <thead>\n",
              "    <tr style=\"text-align: right;\">\n",
              "      <th></th>\n",
              "      <th>Unnamed: 0</th>\n",
              "      <th>Season</th>\n",
              "      <th>Competition</th>\n",
              "      <th>Club</th>\n",
              "      <th>Against</th>\n",
              "      <th>Date</th>\n",
              "      <th>Minute</th>\n",
              "      <th>Goalkeeper</th>\n",
              "      <th>Success?</th>\n",
              "      <th>Score at this moment</th>\n",
              "      <th>Final result</th>\n",
              "      <th>Foot</th>\n",
              "      <th>Area</th>\n",
              "    </tr>\n",
              "  </thead>\n",
              "  <tbody>\n",
              "    <tr>\n",
              "      <th>0</th>\n",
              "      <td>0</td>\n",
              "      <td>20/21</td>\n",
              "      <td>EURO 2020</td>\n",
              "      <td>Portugal</td>\n",
              "      <td>France</td>\n",
              "      <td>2021-06-23</td>\n",
              "      <td>60</td>\n",
              "      <td>Hugo Lloris</td>\n",
              "      <td>1</td>\n",
              "      <td>2:2</td>\n",
              "      <td>2:2</td>\n",
              "      <td>r</td>\n",
              "      <td>1</td>\n",
              "    </tr>\n",
              "    <tr>\n",
              "      <th>1</th>\n",
              "      <td>1</td>\n",
              "      <td>20/21</td>\n",
              "      <td>EURO 2020</td>\n",
              "      <td>Portugal</td>\n",
              "      <td>France</td>\n",
              "      <td>2021-06-23</td>\n",
              "      <td>30</td>\n",
              "      <td>Hugo Lloris</td>\n",
              "      <td>1</td>\n",
              "      <td>1:0</td>\n",
              "      <td>2:2</td>\n",
              "      <td>r</td>\n",
              "      <td>1</td>\n",
              "    </tr>\n",
              "    <tr>\n",
              "      <th>2</th>\n",
              "      <td>2</td>\n",
              "      <td>20/21</td>\n",
              "      <td>EURO 2020</td>\n",
              "      <td>Portugal</td>\n",
              "      <td>Hungary</td>\n",
              "      <td>2021-06-15</td>\n",
              "      <td>87</td>\n",
              "      <td>Péter Gulácsi</td>\n",
              "      <td>1</td>\n",
              "      <td>2:0</td>\n",
              "      <td>3:0</td>\n",
              "      <td>r</td>\n",
              "      <td>5</td>\n",
              "    </tr>\n",
              "    <tr>\n",
              "      <th>3</th>\n",
              "      <td>3</td>\n",
              "      <td>20/21</td>\n",
              "      <td>Serie A</td>\n",
              "      <td>Juventus FC</td>\n",
              "      <td>Inter Milan</td>\n",
              "      <td>2021-05-15</td>\n",
              "      <td>24</td>\n",
              "      <td>Samir Handanovic</td>\n",
              "      <td>0</td>\n",
              "      <td>1:0</td>\n",
              "      <td>3:2</td>\n",
              "      <td>r</td>\n",
              "      <td>3</td>\n",
              "    </tr>\n",
              "    <tr>\n",
              "      <th>4</th>\n",
              "      <td>4</td>\n",
              "      <td>20/21</td>\n",
              "      <td>Serie A</td>\n",
              "      <td>Juventus FC</td>\n",
              "      <td>Udinese Calcio</td>\n",
              "      <td>2021-05-02</td>\n",
              "      <td>83</td>\n",
              "      <td>Simone Scuffet</td>\n",
              "      <td>1</td>\n",
              "      <td>1:1</td>\n",
              "      <td>2:1</td>\n",
              "      <td>r</td>\n",
              "      <td>1</td>\n",
              "    </tr>\n",
              "  </tbody>\n",
              "</table>\n",
              "</div>"
            ],
            "text/plain": [
              "   Unnamed: 0 Season Competition  ... Final result Foot Area\n",
              "0           0  20/21   EURO 2020  ...          2:2    r    1\n",
              "1           1  20/21   EURO 2020  ...          2:2    r    1\n",
              "2           2  20/21   EURO 2020  ...          3:0    r    5\n",
              "3           3  20/21     Serie A  ...          3:2    r    3\n",
              "4           4  20/21     Serie A  ...          2:1    r    1\n",
              "\n",
              "[5 rows x 13 columns]"
            ]
          },
          "metadata": {
            "tags": []
          },
          "execution_count": 77
        }
      ]
    },
    {
      "cell_type": "code",
      "metadata": {
        "colab": {
          "base_uri": "https://localhost:8080/"
        },
        "id": "dvGhdEJnydUo",
        "outputId": "fcc61d03-ef60-411a-bcab-b8a41eb09953"
      },
      "source": [
        "dataset[dataset.isnull()].sum()"
      ],
      "execution_count": 78,
      "outputs": [
        {
          "output_type": "execute_result",
          "data": {
            "text/plain": [
              "Unnamed: 0              0.0\n",
              "Season                  0.0\n",
              "Competition             0.0\n",
              "Club                    0.0\n",
              "Against                 0.0\n",
              "Date                    0.0\n",
              "Minute                  0.0\n",
              "Goalkeeper              0.0\n",
              "Success?                0.0\n",
              "Score at this moment    0.0\n",
              "Final result            0.0\n",
              "Foot                    0.0\n",
              "Area                    0.0\n",
              "dtype: float64"
            ]
          },
          "metadata": {
            "tags": []
          },
          "execution_count": 78
        }
      ]
    },
    {
      "cell_type": "code",
      "metadata": {
        "id": "TLjQeLWbzIZP"
      },
      "source": [
        "df = dataset[['Season', 'Date', 'Competition', 'Club', 'Against', 'Minute', 'Success?', 'Foot', 'Goalkeeper', 'Score at this moment', 'Final result']]"
      ],
      "execution_count": 79,
      "outputs": []
    },
    {
      "cell_type": "code",
      "metadata": {
        "id": "Xyjp4vdO7icY"
      },
      "source": [
        "df.columns = ['Temporada', 'Data', 'Competicao', 'Clube', 'Adversario', 'Minuto', 'Gol?', 'Pe', 'Goleiro', 'Placar no momento', 'Resultado Final']"
      ],
      "execution_count": 80,
      "outputs": []
    },
    {
      "cell_type": "code",
      "metadata": {
        "id": "j9ie0PEJ8uzy",
        "colab": {
          "base_uri": "https://localhost:8080/",
          "height": 0
        },
        "outputId": "80055160-3a77-48c3-ce39-a4326517bd37"
      },
      "source": [
        "df.head()"
      ],
      "execution_count": 81,
      "outputs": [
        {
          "output_type": "execute_result",
          "data": {
            "text/html": [
              "<div>\n",
              "<style scoped>\n",
              "    .dataframe tbody tr th:only-of-type {\n",
              "        vertical-align: middle;\n",
              "    }\n",
              "\n",
              "    .dataframe tbody tr th {\n",
              "        vertical-align: top;\n",
              "    }\n",
              "\n",
              "    .dataframe thead th {\n",
              "        text-align: right;\n",
              "    }\n",
              "</style>\n",
              "<table border=\"1\" class=\"dataframe\">\n",
              "  <thead>\n",
              "    <tr style=\"text-align: right;\">\n",
              "      <th></th>\n",
              "      <th>Temporada</th>\n",
              "      <th>Data</th>\n",
              "      <th>Competicao</th>\n",
              "      <th>Clube</th>\n",
              "      <th>Adversario</th>\n",
              "      <th>Minuto</th>\n",
              "      <th>Gol?</th>\n",
              "      <th>Pe</th>\n",
              "      <th>Goleiro</th>\n",
              "      <th>Placar no momento</th>\n",
              "      <th>Resultado Final</th>\n",
              "    </tr>\n",
              "  </thead>\n",
              "  <tbody>\n",
              "    <tr>\n",
              "      <th>0</th>\n",
              "      <td>20/21</td>\n",
              "      <td>2021-06-23</td>\n",
              "      <td>EURO 2020</td>\n",
              "      <td>Portugal</td>\n",
              "      <td>France</td>\n",
              "      <td>60</td>\n",
              "      <td>1</td>\n",
              "      <td>r</td>\n",
              "      <td>Hugo Lloris</td>\n",
              "      <td>2:2</td>\n",
              "      <td>2:2</td>\n",
              "    </tr>\n",
              "    <tr>\n",
              "      <th>1</th>\n",
              "      <td>20/21</td>\n",
              "      <td>2021-06-23</td>\n",
              "      <td>EURO 2020</td>\n",
              "      <td>Portugal</td>\n",
              "      <td>France</td>\n",
              "      <td>30</td>\n",
              "      <td>1</td>\n",
              "      <td>r</td>\n",
              "      <td>Hugo Lloris</td>\n",
              "      <td>1:0</td>\n",
              "      <td>2:2</td>\n",
              "    </tr>\n",
              "    <tr>\n",
              "      <th>2</th>\n",
              "      <td>20/21</td>\n",
              "      <td>2021-06-15</td>\n",
              "      <td>EURO 2020</td>\n",
              "      <td>Portugal</td>\n",
              "      <td>Hungary</td>\n",
              "      <td>87</td>\n",
              "      <td>1</td>\n",
              "      <td>r</td>\n",
              "      <td>Péter Gulácsi</td>\n",
              "      <td>2:0</td>\n",
              "      <td>3:0</td>\n",
              "    </tr>\n",
              "    <tr>\n",
              "      <th>3</th>\n",
              "      <td>20/21</td>\n",
              "      <td>2021-05-15</td>\n",
              "      <td>Serie A</td>\n",
              "      <td>Juventus FC</td>\n",
              "      <td>Inter Milan</td>\n",
              "      <td>24</td>\n",
              "      <td>0</td>\n",
              "      <td>r</td>\n",
              "      <td>Samir Handanovic</td>\n",
              "      <td>1:0</td>\n",
              "      <td>3:2</td>\n",
              "    </tr>\n",
              "    <tr>\n",
              "      <th>4</th>\n",
              "      <td>20/21</td>\n",
              "      <td>2021-05-02</td>\n",
              "      <td>Serie A</td>\n",
              "      <td>Juventus FC</td>\n",
              "      <td>Udinese Calcio</td>\n",
              "      <td>83</td>\n",
              "      <td>1</td>\n",
              "      <td>r</td>\n",
              "      <td>Simone Scuffet</td>\n",
              "      <td>1:1</td>\n",
              "      <td>2:1</td>\n",
              "    </tr>\n",
              "  </tbody>\n",
              "</table>\n",
              "</div>"
            ],
            "text/plain": [
              "  Temporada        Data  ... Placar no momento Resultado Final\n",
              "0     20/21  2021-06-23  ...               2:2             2:2\n",
              "1     20/21  2021-06-23  ...               1:0             2:2\n",
              "2     20/21  2021-06-15  ...               2:0             3:0\n",
              "3     20/21  2021-05-15  ...               1:0             3:2\n",
              "4     20/21  2021-05-02  ...               1:1             2:1\n",
              "\n",
              "[5 rows x 11 columns]"
            ]
          },
          "metadata": {
            "tags": []
          },
          "execution_count": 81
        }
      ]
    },
    {
      "cell_type": "markdown",
      "metadata": {
        "id": "5J623ePQ-ILI"
      },
      "source": [
        "## Separando pênaltis por clube"
      ]
    },
    {
      "cell_type": "code",
      "metadata": {
        "colab": {
          "base_uri": "https://localhost:8080/"
        },
        "id": "7Ddqj25mx0vF",
        "outputId": "e4d88a8c-9edd-4c04-8d50-11ada4afc105"
      },
      "source": [
        "df['Clube'].unique()"
      ],
      "execution_count": 82,
      "outputs": [
        {
          "output_type": "execute_result",
          "data": {
            "text/plain": [
              "array(['Portugal', 'Juventus FC', 'Real Madrid', 'Manchester United'],\n",
              "      dtype=object)"
            ]
          },
          "metadata": {
            "tags": []
          },
          "execution_count": 82
        }
      ]
    },
    {
      "cell_type": "code",
      "metadata": {
        "colab": {
          "base_uri": "https://localhost:8080/",
          "height": 204
        },
        "id": "mEx-M8mHFlOq",
        "outputId": "f3f15fa3-cd24-45ee-8ae7-96ba510f5f57"
      },
      "source": [
        "df_portugal = df[df['Clube'] == 'Portugal']\n",
        "df_portugal.reset_index(drop = True, inplace = True)\n",
        "df_portugal.head()"
      ],
      "execution_count": 83,
      "outputs": [
        {
          "output_type": "execute_result",
          "data": {
            "text/html": [
              "<div>\n",
              "<style scoped>\n",
              "    .dataframe tbody tr th:only-of-type {\n",
              "        vertical-align: middle;\n",
              "    }\n",
              "\n",
              "    .dataframe tbody tr th {\n",
              "        vertical-align: top;\n",
              "    }\n",
              "\n",
              "    .dataframe thead th {\n",
              "        text-align: right;\n",
              "    }\n",
              "</style>\n",
              "<table border=\"1\" class=\"dataframe\">\n",
              "  <thead>\n",
              "    <tr style=\"text-align: right;\">\n",
              "      <th></th>\n",
              "      <th>Temporada</th>\n",
              "      <th>Data</th>\n",
              "      <th>Competicao</th>\n",
              "      <th>Clube</th>\n",
              "      <th>Adversario</th>\n",
              "      <th>Minuto</th>\n",
              "      <th>Gol?</th>\n",
              "      <th>Pe</th>\n",
              "      <th>Goleiro</th>\n",
              "      <th>Placar no momento</th>\n",
              "      <th>Resultado Final</th>\n",
              "    </tr>\n",
              "  </thead>\n",
              "  <tbody>\n",
              "    <tr>\n",
              "      <th>0</th>\n",
              "      <td>20/21</td>\n",
              "      <td>2021-06-23</td>\n",
              "      <td>EURO 2020</td>\n",
              "      <td>Portugal</td>\n",
              "      <td>France</td>\n",
              "      <td>60</td>\n",
              "      <td>1</td>\n",
              "      <td>r</td>\n",
              "      <td>Hugo Lloris</td>\n",
              "      <td>2:2</td>\n",
              "      <td>2:2</td>\n",
              "    </tr>\n",
              "    <tr>\n",
              "      <th>1</th>\n",
              "      <td>20/21</td>\n",
              "      <td>2021-06-23</td>\n",
              "      <td>EURO 2020</td>\n",
              "      <td>Portugal</td>\n",
              "      <td>France</td>\n",
              "      <td>30</td>\n",
              "      <td>1</td>\n",
              "      <td>r</td>\n",
              "      <td>Hugo Lloris</td>\n",
              "      <td>1:0</td>\n",
              "      <td>2:2</td>\n",
              "    </tr>\n",
              "    <tr>\n",
              "      <th>2</th>\n",
              "      <td>20/21</td>\n",
              "      <td>2021-06-15</td>\n",
              "      <td>EURO 2020</td>\n",
              "      <td>Portugal</td>\n",
              "      <td>Hungary</td>\n",
              "      <td>87</td>\n",
              "      <td>1</td>\n",
              "      <td>r</td>\n",
              "      <td>Péter Gulácsi</td>\n",
              "      <td>2:0</td>\n",
              "      <td>3:0</td>\n",
              "    </tr>\n",
              "    <tr>\n",
              "      <th>3</th>\n",
              "      <td>18/19</td>\n",
              "      <td>2019-11-14</td>\n",
              "      <td>European Qualifiers</td>\n",
              "      <td>Portugal</td>\n",
              "      <td>Lithuania</td>\n",
              "      <td>7</td>\n",
              "      <td>1</td>\n",
              "      <td>r</td>\n",
              "      <td>Ernestas Setkus</td>\n",
              "      <td>1:0</td>\n",
              "      <td>6:0</td>\n",
              "    </tr>\n",
              "    <tr>\n",
              "      <th>4</th>\n",
              "      <td>18/19</td>\n",
              "      <td>2019-10-14</td>\n",
              "      <td>European Qualifiers</td>\n",
              "      <td>Portugal</td>\n",
              "      <td>Ukraine</td>\n",
              "      <td>73</td>\n",
              "      <td>1</td>\n",
              "      <td>r</td>\n",
              "      <td>Andriy Pyatov</td>\n",
              "      <td>1:2</td>\n",
              "      <td>1:2</td>\n",
              "    </tr>\n",
              "  </tbody>\n",
              "</table>\n",
              "</div>"
            ],
            "text/plain": [
              "  Temporada        Data  ... Placar no momento Resultado Final\n",
              "0     20/21  2021-06-23  ...               2:2             2:2\n",
              "1     20/21  2021-06-23  ...               1:0             2:2\n",
              "2     20/21  2021-06-15  ...               2:0             3:0\n",
              "3     18/19  2019-11-14  ...               1:0             6:0\n",
              "4     18/19  2019-10-14  ...               1:2             1:2\n",
              "\n",
              "[5 rows x 11 columns]"
            ]
          },
          "metadata": {
            "tags": []
          },
          "execution_count": 83
        }
      ]
    },
    {
      "cell_type": "code",
      "metadata": {
        "colab": {
          "base_uri": "https://localhost:8080/",
          "height": 204
        },
        "id": "GLsr1NEfOhXY",
        "outputId": "0dfbb887-bb2a-48c0-9659-5ef9bbb414c8"
      },
      "source": [
        "df_manchesterU = df[df['Clube'] == 'Manchester United']\n",
        "df_manchesterU.reset_index(drop = True, inplace = True)\n",
        "df_manchesterU.head()"
      ],
      "execution_count": 84,
      "outputs": [
        {
          "output_type": "execute_result",
          "data": {
            "text/html": [
              "<div>\n",
              "<style scoped>\n",
              "    .dataframe tbody tr th:only-of-type {\n",
              "        vertical-align: middle;\n",
              "    }\n",
              "\n",
              "    .dataframe tbody tr th {\n",
              "        vertical-align: top;\n",
              "    }\n",
              "\n",
              "    .dataframe thead th {\n",
              "        text-align: right;\n",
              "    }\n",
              "</style>\n",
              "<table border=\"1\" class=\"dataframe\">\n",
              "  <thead>\n",
              "    <tr style=\"text-align: right;\">\n",
              "      <th></th>\n",
              "      <th>Temporada</th>\n",
              "      <th>Data</th>\n",
              "      <th>Competicao</th>\n",
              "      <th>Clube</th>\n",
              "      <th>Adversario</th>\n",
              "      <th>Minuto</th>\n",
              "      <th>Gol?</th>\n",
              "      <th>Pe</th>\n",
              "      <th>Goleiro</th>\n",
              "      <th>Placar no momento</th>\n",
              "      <th>Resultado Final</th>\n",
              "    </tr>\n",
              "  </thead>\n",
              "  <tbody>\n",
              "    <tr>\n",
              "      <th>0</th>\n",
              "      <td>08/09</td>\n",
              "      <td>2009-04-25</td>\n",
              "      <td>Premier League</td>\n",
              "      <td>Manchester United</td>\n",
              "      <td>Tottenham Hotspur</td>\n",
              "      <td>57</td>\n",
              "      <td>1</td>\n",
              "      <td>r</td>\n",
              "      <td>Heurelho Gomes</td>\n",
              "      <td>1:2</td>\n",
              "      <td>5:2</td>\n",
              "    </tr>\n",
              "    <tr>\n",
              "      <th>1</th>\n",
              "      <td>08/09</td>\n",
              "      <td>2009-03-14</td>\n",
              "      <td>Premier League</td>\n",
              "      <td>Manchester United</td>\n",
              "      <td>Liverpool FC</td>\n",
              "      <td>22</td>\n",
              "      <td>1</td>\n",
              "      <td>r</td>\n",
              "      <td>Pepe Reina</td>\n",
              "      <td>1:0</td>\n",
              "      <td>1:4</td>\n",
              "    </tr>\n",
              "    <tr>\n",
              "      <th>2</th>\n",
              "      <td>08/09</td>\n",
              "      <td>2009-01-31</td>\n",
              "      <td>Premier League</td>\n",
              "      <td>Manchester United</td>\n",
              "      <td>Everton FC</td>\n",
              "      <td>43</td>\n",
              "      <td>1</td>\n",
              "      <td>r</td>\n",
              "      <td>Tim Howard</td>\n",
              "      <td>1:0</td>\n",
              "      <td>1:0</td>\n",
              "    </tr>\n",
              "    <tr>\n",
              "      <th>3</th>\n",
              "      <td>08/09</td>\n",
              "      <td>2009-01-20</td>\n",
              "      <td>EFL Cup</td>\n",
              "      <td>Manchester United</td>\n",
              "      <td>Derby County</td>\n",
              "      <td>89</td>\n",
              "      <td>1</td>\n",
              "      <td>r</td>\n",
              "      <td>Roy Carroll</td>\n",
              "      <td>4:1</td>\n",
              "      <td>4:2</td>\n",
              "    </tr>\n",
              "    <tr>\n",
              "      <th>4</th>\n",
              "      <td>08/09</td>\n",
              "      <td>2008-09-27</td>\n",
              "      <td>Premier League</td>\n",
              "      <td>Manchester United</td>\n",
              "      <td>Bolton Wanderers</td>\n",
              "      <td>59</td>\n",
              "      <td>1</td>\n",
              "      <td>r</td>\n",
              "      <td>Jussi Jääskeläinen</td>\n",
              "      <td>1:0</td>\n",
              "      <td>2:0</td>\n",
              "    </tr>\n",
              "  </tbody>\n",
              "</table>\n",
              "</div>"
            ],
            "text/plain": [
              "  Temporada        Data  ... Placar no momento Resultado Final\n",
              "0     08/09  2009-04-25  ...               1:2             5:2\n",
              "1     08/09  2009-03-14  ...               1:0             1:4\n",
              "2     08/09  2009-01-31  ...               1:0             1:0\n",
              "3     08/09  2009-01-20  ...               4:1             4:2\n",
              "4     08/09  2008-09-27  ...               1:0             2:0\n",
              "\n",
              "[5 rows x 11 columns]"
            ]
          },
          "metadata": {
            "tags": []
          },
          "execution_count": 84
        }
      ]
    },
    {
      "cell_type": "code",
      "metadata": {
        "colab": {
          "base_uri": "https://localhost:8080/",
          "height": 204
        },
        "id": "KrG_e_wbTNgQ",
        "outputId": "858377e9-3ae9-4136-c2ca-2b9439acae37"
      },
      "source": [
        "df_real_madrid = df[df['Clube'] == 'Real Madrid']\n",
        "df_real_madrid.reset_index(drop = True, inplace = True)\n",
        "df_real_madrid.head()"
      ],
      "execution_count": 85,
      "outputs": [
        {
          "output_type": "execute_result",
          "data": {
            "text/html": [
              "<div>\n",
              "<style scoped>\n",
              "    .dataframe tbody tr th:only-of-type {\n",
              "        vertical-align: middle;\n",
              "    }\n",
              "\n",
              "    .dataframe tbody tr th {\n",
              "        vertical-align: top;\n",
              "    }\n",
              "\n",
              "    .dataframe thead th {\n",
              "        text-align: right;\n",
              "    }\n",
              "</style>\n",
              "<table border=\"1\" class=\"dataframe\">\n",
              "  <thead>\n",
              "    <tr style=\"text-align: right;\">\n",
              "      <th></th>\n",
              "      <th>Temporada</th>\n",
              "      <th>Data</th>\n",
              "      <th>Competicao</th>\n",
              "      <th>Clube</th>\n",
              "      <th>Adversario</th>\n",
              "      <th>Minuto</th>\n",
              "      <th>Gol?</th>\n",
              "      <th>Pe</th>\n",
              "      <th>Goleiro</th>\n",
              "      <th>Placar no momento</th>\n",
              "      <th>Resultado Final</th>\n",
              "    </tr>\n",
              "  </thead>\n",
              "  <tbody>\n",
              "    <tr>\n",
              "      <th>0</th>\n",
              "      <td>17/18</td>\n",
              "      <td>2018-04-11</td>\n",
              "      <td>UEFA Champions League</td>\n",
              "      <td>Real Madrid</td>\n",
              "      <td>Juventus FC</td>\n",
              "      <td>90</td>\n",
              "      <td>1</td>\n",
              "      <td>r</td>\n",
              "      <td>Gianluigi Buffon</td>\n",
              "      <td>1:3</td>\n",
              "      <td>1:3</td>\n",
              "    </tr>\n",
              "    <tr>\n",
              "      <th>1</th>\n",
              "      <td>17/18</td>\n",
              "      <td>2018-02-14</td>\n",
              "      <td>UEFA Champions League</td>\n",
              "      <td>Real Madrid</td>\n",
              "      <td>Paris Saint-Germain</td>\n",
              "      <td>45</td>\n",
              "      <td>1</td>\n",
              "      <td>r</td>\n",
              "      <td>Alphonse Areola</td>\n",
              "      <td>1:1</td>\n",
              "      <td>3:1</td>\n",
              "    </tr>\n",
              "    <tr>\n",
              "      <th>2</th>\n",
              "      <td>17/18</td>\n",
              "      <td>2018-01-27</td>\n",
              "      <td>LaLiga</td>\n",
              "      <td>Real Madrid</td>\n",
              "      <td>Valencia CF</td>\n",
              "      <td>16</td>\n",
              "      <td>1</td>\n",
              "      <td>r</td>\n",
              "      <td>Neto</td>\n",
              "      <td>1:0</td>\n",
              "      <td>4:1</td>\n",
              "    </tr>\n",
              "    <tr>\n",
              "      <th>3</th>\n",
              "      <td>17/18</td>\n",
              "      <td>2018-01-27</td>\n",
              "      <td>LaLiga</td>\n",
              "      <td>Real Madrid</td>\n",
              "      <td>Valencia CF</td>\n",
              "      <td>38</td>\n",
              "      <td>1</td>\n",
              "      <td>r</td>\n",
              "      <td>Neto</td>\n",
              "      <td>2:0</td>\n",
              "      <td>4:1</td>\n",
              "    </tr>\n",
              "    <tr>\n",
              "      <th>4</th>\n",
              "      <td>17/18</td>\n",
              "      <td>2017-12-09</td>\n",
              "      <td>LaLiga</td>\n",
              "      <td>Real Madrid</td>\n",
              "      <td>Sevilla FC</td>\n",
              "      <td>31</td>\n",
              "      <td>1</td>\n",
              "      <td>r</td>\n",
              "      <td>Sergio Rico</td>\n",
              "      <td>3:0</td>\n",
              "      <td>5:0</td>\n",
              "    </tr>\n",
              "  </tbody>\n",
              "</table>\n",
              "</div>"
            ],
            "text/plain": [
              "  Temporada        Data  ... Placar no momento Resultado Final\n",
              "0     17/18  2018-04-11  ...               1:3             1:3\n",
              "1     17/18  2018-02-14  ...               1:1             3:1\n",
              "2     17/18  2018-01-27  ...               1:0             4:1\n",
              "3     17/18  2018-01-27  ...               2:0             4:1\n",
              "4     17/18  2017-12-09  ...               3:0             5:0\n",
              "\n",
              "[5 rows x 11 columns]"
            ]
          },
          "metadata": {
            "tags": []
          },
          "execution_count": 85
        }
      ]
    },
    {
      "cell_type": "code",
      "metadata": {
        "colab": {
          "base_uri": "https://localhost:8080/",
          "height": 204
        },
        "id": "PIOxh63qT5n2",
        "outputId": "b04bf323-cbc7-48ae-9395-b21214eb6c04"
      },
      "source": [
        "df_juventus = df[df['Clube'] == 'Juventus FC']\n",
        "df_juventus.reset_index(drop = True, inplace = True)\n",
        "df_juventus.head()"
      ],
      "execution_count": 86,
      "outputs": [
        {
          "output_type": "execute_result",
          "data": {
            "text/html": [
              "<div>\n",
              "<style scoped>\n",
              "    .dataframe tbody tr th:only-of-type {\n",
              "        vertical-align: middle;\n",
              "    }\n",
              "\n",
              "    .dataframe tbody tr th {\n",
              "        vertical-align: top;\n",
              "    }\n",
              "\n",
              "    .dataframe thead th {\n",
              "        text-align: right;\n",
              "    }\n",
              "</style>\n",
              "<table border=\"1\" class=\"dataframe\">\n",
              "  <thead>\n",
              "    <tr style=\"text-align: right;\">\n",
              "      <th></th>\n",
              "      <th>Temporada</th>\n",
              "      <th>Data</th>\n",
              "      <th>Competicao</th>\n",
              "      <th>Clube</th>\n",
              "      <th>Adversario</th>\n",
              "      <th>Minuto</th>\n",
              "      <th>Gol?</th>\n",
              "      <th>Pe</th>\n",
              "      <th>Goleiro</th>\n",
              "      <th>Placar no momento</th>\n",
              "      <th>Resultado Final</th>\n",
              "    </tr>\n",
              "  </thead>\n",
              "  <tbody>\n",
              "    <tr>\n",
              "      <th>0</th>\n",
              "      <td>20/21</td>\n",
              "      <td>2021-05-15</td>\n",
              "      <td>Serie A</td>\n",
              "      <td>Juventus FC</td>\n",
              "      <td>Inter Milan</td>\n",
              "      <td>24</td>\n",
              "      <td>0</td>\n",
              "      <td>r</td>\n",
              "      <td>Samir Handanovic</td>\n",
              "      <td>1:0</td>\n",
              "      <td>3:2</td>\n",
              "    </tr>\n",
              "    <tr>\n",
              "      <th>1</th>\n",
              "      <td>20/21</td>\n",
              "      <td>2021-05-02</td>\n",
              "      <td>Serie A</td>\n",
              "      <td>Juventus FC</td>\n",
              "      <td>Udinese Calcio</td>\n",
              "      <td>83</td>\n",
              "      <td>1</td>\n",
              "      <td>r</td>\n",
              "      <td>Simone Scuffet</td>\n",
              "      <td>1:1</td>\n",
              "      <td>2:1</td>\n",
              "    </tr>\n",
              "    <tr>\n",
              "      <th>2</th>\n",
              "      <td>20/21</td>\n",
              "      <td>2021-03-14</td>\n",
              "      <td>Serie A</td>\n",
              "      <td>Juventus FC</td>\n",
              "      <td>Cagliari Calcio</td>\n",
              "      <td>25</td>\n",
              "      <td>1</td>\n",
              "      <td>r</td>\n",
              "      <td>Alessio Cragno</td>\n",
              "      <td>2:0</td>\n",
              "      <td>3:1</td>\n",
              "    </tr>\n",
              "    <tr>\n",
              "      <th>3</th>\n",
              "      <td>20/21</td>\n",
              "      <td>2021-02-02</td>\n",
              "      <td>Coppa Italia</td>\n",
              "      <td>Juventus FC</td>\n",
              "      <td>Inter Milan</td>\n",
              "      <td>26</td>\n",
              "      <td>1</td>\n",
              "      <td>r</td>\n",
              "      <td>Samir Handanovic</td>\n",
              "      <td>1:1</td>\n",
              "      <td>2:1</td>\n",
              "    </tr>\n",
              "    <tr>\n",
              "      <th>4</th>\n",
              "      <td>20/21</td>\n",
              "      <td>2020-12-16</td>\n",
              "      <td>Serie A</td>\n",
              "      <td>Juventus FC</td>\n",
              "      <td>Atalanta BC</td>\n",
              "      <td>61</td>\n",
              "      <td>0</td>\n",
              "      <td>r</td>\n",
              "      <td>Pierluigi Gollini</td>\n",
              "      <td>1:1</td>\n",
              "      <td>1:1</td>\n",
              "    </tr>\n",
              "  </tbody>\n",
              "</table>\n",
              "</div>"
            ],
            "text/plain": [
              "  Temporada        Data  ... Placar no momento Resultado Final\n",
              "0     20/21  2021-05-15  ...               1:0             3:2\n",
              "1     20/21  2021-05-02  ...               1:1             2:1\n",
              "2     20/21  2021-03-14  ...               2:0             3:1\n",
              "3     20/21  2021-02-02  ...               1:1             2:1\n",
              "4     20/21  2020-12-16  ...               1:1             1:1\n",
              "\n",
              "[5 rows x 11 columns]"
            ]
          },
          "metadata": {
            "tags": []
          },
          "execution_count": 86
        }
      ]
    },
    {
      "cell_type": "code",
      "metadata": {
        "id": "Ao950D95emQQ"
      },
      "source": [
        ""
      ],
      "execution_count": 86,
      "outputs": []
    }
  ]
}