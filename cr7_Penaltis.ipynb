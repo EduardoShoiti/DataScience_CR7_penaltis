{
  "nbformat": 4,
  "nbformat_minor": 0,
  "metadata": {
    "colab": {
      "name": "cr7_Penaltis.ipynb",
      "provenance": [],
      "collapsed_sections": [],
      "authorship_tag": "ABX9TyMHJ6TFjUn4K8JtIjvG/Q/+",
      "include_colab_link": true
    },
    "kernelspec": {
      "name": "python3",
      "display_name": "Python 3"
    },
    "language_info": {
      "name": "python"
    }
  },
  "cells": [
    {
      "cell_type": "markdown",
      "metadata": {
        "id": "view-in-github",
        "colab_type": "text"
      },
      "source": [
        "<a href=\"https://colab.research.google.com/github/EduardoShoiti/DataScience_CR7_penaltis/blob/master/cr7_Penaltis.ipynb\" target=\"_parent\"><img src=\"https://colab.research.google.com/assets/colab-badge.svg\" alt=\"Open In Colab\"/></a>"
      ]
    },
    {
      "cell_type": "code",
      "metadata": {
        "id": "XyPIjG5lxFMy"
      },
      "source": [
        "import pandas as pd\n",
        "import numpy as np\n",
        "import matplotlib.pyplot as plt"
      ],
      "execution_count": 67,
      "outputs": []
    },
    {
      "cell_type": "markdown",
      "metadata": {
        "id": "BvGGDnf09J_6"
      },
      "source": [
        "## Criação e limpeza do DataFrame "
      ]
    },
    {
      "cell_type": "code",
      "metadata": {
        "id": "A27RdmQCx_OE"
      },
      "source": [
        "dataset = pd.read_csv('Ronaldo_penalties.csv')"
      ],
      "execution_count": 68,
      "outputs": []
    },
    {
      "cell_type": "code",
      "metadata": {
        "id": "T7Hn37riycc5"
      },
      "source": [
        "dataset.head()"
      ],
      "execution_count": null,
      "outputs": []
    },
    {
      "cell_type": "code",
      "metadata": {
        "id": "3QI7U4807aOY"
      },
      "source": [
        "# Transformando Date para tipo datatime\n",
        "dataset['Date'] = pd.to_datetime(dataset['Date'])"
      ],
      "execution_count": 70,
      "outputs": []
    },
    {
      "cell_type": "code",
      "metadata": {
        "id": "OZb9clys7u3V"
      },
      "source": [
        "dataset.dtypes"
      ],
      "execution_count": null,
      "outputs": []
    },
    {
      "cell_type": "code",
      "metadata": {
        "id": "dvGhdEJnydUo"
      },
      "source": [
        "dataset[dataset.isnull()].sum()"
      ],
      "execution_count": null,
      "outputs": []
    },
    {
      "cell_type": "code",
      "metadata": {
        "id": "TLjQeLWbzIZP"
      },
      "source": [
        "df = dataset[['Season', 'Date', 'Competition', 'Club', 'Against', 'Minute', 'Success?', 'Foot', 'Goalkeeper', 'Score at this moment', 'Final result']]"
      ],
      "execution_count": 73,
      "outputs": []
    },
    {
      "cell_type": "code",
      "metadata": {
        "id": "Xyjp4vdO7icY"
      },
      "source": [
        "df.columns = ['Temporada', 'Data', 'Competicao', 'Clube', 'Adversario', 'Minuto', 'Gol?', 'Pe', 'Goleiro', 'Placar no momento', 'Resultado Final']"
      ],
      "execution_count": 74,
      "outputs": []
    },
    {
      "cell_type": "code",
      "metadata": {
        "id": "j9ie0PEJ8uzy"
      },
      "source": [
        "df.head()"
      ],
      "execution_count": null,
      "outputs": []
    },
    {
      "cell_type": "markdown",
      "metadata": {
        "id": "5J623ePQ-ILI"
      },
      "source": [
        "## Separando pênaltis por clube"
      ]
    },
    {
      "cell_type": "code",
      "metadata": {
        "colab": {
          "base_uri": "https://localhost:8080/"
        },
        "id": "7Ddqj25mx0vF",
        "outputId": "a9e9378d-5a10-4e6f-e942-bf5cdfb33a28"
      },
      "source": [
        "df['Clube'].unique()"
      ],
      "execution_count": 76,
      "outputs": [
        {
          "output_type": "execute_result",
          "data": {
            "text/plain": [
              "array(['Portugal', 'Juventus FC', 'Real Madrid', 'Manchester United'],\n",
              "      dtype=object)"
            ]
          },
          "metadata": {},
          "execution_count": 76
        }
      ]
    },
    {
      "cell_type": "code",
      "metadata": {
        "colab": {
          "base_uri": "https://localhost:8080/",
          "height": 204
        },
        "id": "mEx-M8mHFlOq",
        "outputId": "bdae6720-6618-4942-fc34-fbaa96276f5f"
      },
      "source": [
        "df_portugal = df[df['Clube'] == 'Portugal']\n",
        "df_portugal.reset_index(drop = True, inplace = True)\n",
        "df_portugal.head()"
      ],
      "execution_count": 77,
      "outputs": [
        {
          "output_type": "execute_result",
          "data": {
            "text/html": [
              "<div>\n",
              "<style scoped>\n",
              "    .dataframe tbody tr th:only-of-type {\n",
              "        vertical-align: middle;\n",
              "    }\n",
              "\n",
              "    .dataframe tbody tr th {\n",
              "        vertical-align: top;\n",
              "    }\n",
              "\n",
              "    .dataframe thead th {\n",
              "        text-align: right;\n",
              "    }\n",
              "</style>\n",
              "<table border=\"1\" class=\"dataframe\">\n",
              "  <thead>\n",
              "    <tr style=\"text-align: right;\">\n",
              "      <th></th>\n",
              "      <th>Temporada</th>\n",
              "      <th>Data</th>\n",
              "      <th>Competicao</th>\n",
              "      <th>Clube</th>\n",
              "      <th>Adversario</th>\n",
              "      <th>Minuto</th>\n",
              "      <th>Gol?</th>\n",
              "      <th>Pe</th>\n",
              "      <th>Goleiro</th>\n",
              "      <th>Placar no momento</th>\n",
              "      <th>Resultado Final</th>\n",
              "    </tr>\n",
              "  </thead>\n",
              "  <tbody>\n",
              "    <tr>\n",
              "      <th>0</th>\n",
              "      <td>20/21</td>\n",
              "      <td>2021-06-23</td>\n",
              "      <td>EURO 2020</td>\n",
              "      <td>Portugal</td>\n",
              "      <td>France</td>\n",
              "      <td>60</td>\n",
              "      <td>1</td>\n",
              "      <td>r</td>\n",
              "      <td>Hugo Lloris</td>\n",
              "      <td>2:2</td>\n",
              "      <td>2:2</td>\n",
              "    </tr>\n",
              "    <tr>\n",
              "      <th>1</th>\n",
              "      <td>20/21</td>\n",
              "      <td>2021-06-23</td>\n",
              "      <td>EURO 2020</td>\n",
              "      <td>Portugal</td>\n",
              "      <td>France</td>\n",
              "      <td>30</td>\n",
              "      <td>1</td>\n",
              "      <td>r</td>\n",
              "      <td>Hugo Lloris</td>\n",
              "      <td>1:0</td>\n",
              "      <td>2:2</td>\n",
              "    </tr>\n",
              "    <tr>\n",
              "      <th>2</th>\n",
              "      <td>20/21</td>\n",
              "      <td>2021-06-15</td>\n",
              "      <td>EURO 2020</td>\n",
              "      <td>Portugal</td>\n",
              "      <td>Hungary</td>\n",
              "      <td>87</td>\n",
              "      <td>1</td>\n",
              "      <td>r</td>\n",
              "      <td>Péter Gulácsi</td>\n",
              "      <td>2:0</td>\n",
              "      <td>3:0</td>\n",
              "    </tr>\n",
              "    <tr>\n",
              "      <th>3</th>\n",
              "      <td>18/19</td>\n",
              "      <td>2019-11-14</td>\n",
              "      <td>European Qualifiers</td>\n",
              "      <td>Portugal</td>\n",
              "      <td>Lithuania</td>\n",
              "      <td>7</td>\n",
              "      <td>1</td>\n",
              "      <td>r</td>\n",
              "      <td>Ernestas Setkus</td>\n",
              "      <td>1:0</td>\n",
              "      <td>6:0</td>\n",
              "    </tr>\n",
              "    <tr>\n",
              "      <th>4</th>\n",
              "      <td>18/19</td>\n",
              "      <td>2019-10-14</td>\n",
              "      <td>European Qualifiers</td>\n",
              "      <td>Portugal</td>\n",
              "      <td>Ukraine</td>\n",
              "      <td>73</td>\n",
              "      <td>1</td>\n",
              "      <td>r</td>\n",
              "      <td>Andriy Pyatov</td>\n",
              "      <td>1:2</td>\n",
              "      <td>1:2</td>\n",
              "    </tr>\n",
              "  </tbody>\n",
              "</table>\n",
              "</div>"
            ],
            "text/plain": [
              "  Temporada       Data  ... Placar no momento Resultado Final\n",
              "0     20/21 2021-06-23  ...               2:2             2:2\n",
              "1     20/21 2021-06-23  ...               1:0             2:2\n",
              "2     20/21 2021-06-15  ...               2:0             3:0\n",
              "3     18/19 2019-11-14  ...               1:0             6:0\n",
              "4     18/19 2019-10-14  ...               1:2             1:2\n",
              "\n",
              "[5 rows x 11 columns]"
            ]
          },
          "metadata": {},
          "execution_count": 77
        }
      ]
    },
    {
      "cell_type": "code",
      "metadata": {
        "colab": {
          "base_uri": "https://localhost:8080/",
          "height": 204
        },
        "id": "GLsr1NEfOhXY",
        "outputId": "4a2d3998-1b94-48d8-8602-b005fcf61d0a"
      },
      "source": [
        "df_manchesterU = df[df['Clube'] == 'Manchester United']\n",
        "df_manchesterU.reset_index(drop = True, inplace = True)\n",
        "df_manchesterU.head()"
      ],
      "execution_count": 78,
      "outputs": [
        {
          "output_type": "execute_result",
          "data": {
            "text/html": [
              "<div>\n",
              "<style scoped>\n",
              "    .dataframe tbody tr th:only-of-type {\n",
              "        vertical-align: middle;\n",
              "    }\n",
              "\n",
              "    .dataframe tbody tr th {\n",
              "        vertical-align: top;\n",
              "    }\n",
              "\n",
              "    .dataframe thead th {\n",
              "        text-align: right;\n",
              "    }\n",
              "</style>\n",
              "<table border=\"1\" class=\"dataframe\">\n",
              "  <thead>\n",
              "    <tr style=\"text-align: right;\">\n",
              "      <th></th>\n",
              "      <th>Temporada</th>\n",
              "      <th>Data</th>\n",
              "      <th>Competicao</th>\n",
              "      <th>Clube</th>\n",
              "      <th>Adversario</th>\n",
              "      <th>Minuto</th>\n",
              "      <th>Gol?</th>\n",
              "      <th>Pe</th>\n",
              "      <th>Goleiro</th>\n",
              "      <th>Placar no momento</th>\n",
              "      <th>Resultado Final</th>\n",
              "    </tr>\n",
              "  </thead>\n",
              "  <tbody>\n",
              "    <tr>\n",
              "      <th>0</th>\n",
              "      <td>08/09</td>\n",
              "      <td>2009-04-25</td>\n",
              "      <td>Premier League</td>\n",
              "      <td>Manchester United</td>\n",
              "      <td>Tottenham Hotspur</td>\n",
              "      <td>57</td>\n",
              "      <td>1</td>\n",
              "      <td>r</td>\n",
              "      <td>Heurelho Gomes</td>\n",
              "      <td>1:2</td>\n",
              "      <td>5:2</td>\n",
              "    </tr>\n",
              "    <tr>\n",
              "      <th>1</th>\n",
              "      <td>08/09</td>\n",
              "      <td>2009-03-14</td>\n",
              "      <td>Premier League</td>\n",
              "      <td>Manchester United</td>\n",
              "      <td>Liverpool FC</td>\n",
              "      <td>22</td>\n",
              "      <td>1</td>\n",
              "      <td>r</td>\n",
              "      <td>Pepe Reina</td>\n",
              "      <td>1:0</td>\n",
              "      <td>1:4</td>\n",
              "    </tr>\n",
              "    <tr>\n",
              "      <th>2</th>\n",
              "      <td>08/09</td>\n",
              "      <td>2009-01-31</td>\n",
              "      <td>Premier League</td>\n",
              "      <td>Manchester United</td>\n",
              "      <td>Everton FC</td>\n",
              "      <td>43</td>\n",
              "      <td>1</td>\n",
              "      <td>r</td>\n",
              "      <td>Tim Howard</td>\n",
              "      <td>1:0</td>\n",
              "      <td>1:0</td>\n",
              "    </tr>\n",
              "    <tr>\n",
              "      <th>3</th>\n",
              "      <td>08/09</td>\n",
              "      <td>2009-01-20</td>\n",
              "      <td>EFL Cup</td>\n",
              "      <td>Manchester United</td>\n",
              "      <td>Derby County</td>\n",
              "      <td>89</td>\n",
              "      <td>1</td>\n",
              "      <td>r</td>\n",
              "      <td>Roy Carroll</td>\n",
              "      <td>4:1</td>\n",
              "      <td>4:2</td>\n",
              "    </tr>\n",
              "    <tr>\n",
              "      <th>4</th>\n",
              "      <td>08/09</td>\n",
              "      <td>2008-09-27</td>\n",
              "      <td>Premier League</td>\n",
              "      <td>Manchester United</td>\n",
              "      <td>Bolton Wanderers</td>\n",
              "      <td>59</td>\n",
              "      <td>1</td>\n",
              "      <td>r</td>\n",
              "      <td>Jussi Jääskeläinen</td>\n",
              "      <td>1:0</td>\n",
              "      <td>2:0</td>\n",
              "    </tr>\n",
              "  </tbody>\n",
              "</table>\n",
              "</div>"
            ],
            "text/plain": [
              "  Temporada       Data  ... Placar no momento Resultado Final\n",
              "0     08/09 2009-04-25  ...               1:2             5:2\n",
              "1     08/09 2009-03-14  ...               1:0             1:4\n",
              "2     08/09 2009-01-31  ...               1:0             1:0\n",
              "3     08/09 2009-01-20  ...               4:1             4:2\n",
              "4     08/09 2008-09-27  ...               1:0             2:0\n",
              "\n",
              "[5 rows x 11 columns]"
            ]
          },
          "metadata": {},
          "execution_count": 78
        }
      ]
    },
    {
      "cell_type": "code",
      "metadata": {
        "colab": {
          "base_uri": "https://localhost:8080/",
          "height": 204
        },
        "id": "KrG_e_wbTNgQ",
        "outputId": "015a4a91-fd23-46ce-f708-b769863bd069"
      },
      "source": [
        "df_real_madrid = df[df['Clube'] == 'Real Madrid']\n",
        "df_real_madrid.reset_index(drop = True, inplace = True)\n",
        "df_real_madrid.head()"
      ],
      "execution_count": 79,
      "outputs": [
        {
          "output_type": "execute_result",
          "data": {
            "text/html": [
              "<div>\n",
              "<style scoped>\n",
              "    .dataframe tbody tr th:only-of-type {\n",
              "        vertical-align: middle;\n",
              "    }\n",
              "\n",
              "    .dataframe tbody tr th {\n",
              "        vertical-align: top;\n",
              "    }\n",
              "\n",
              "    .dataframe thead th {\n",
              "        text-align: right;\n",
              "    }\n",
              "</style>\n",
              "<table border=\"1\" class=\"dataframe\">\n",
              "  <thead>\n",
              "    <tr style=\"text-align: right;\">\n",
              "      <th></th>\n",
              "      <th>Temporada</th>\n",
              "      <th>Data</th>\n",
              "      <th>Competicao</th>\n",
              "      <th>Clube</th>\n",
              "      <th>Adversario</th>\n",
              "      <th>Minuto</th>\n",
              "      <th>Gol?</th>\n",
              "      <th>Pe</th>\n",
              "      <th>Goleiro</th>\n",
              "      <th>Placar no momento</th>\n",
              "      <th>Resultado Final</th>\n",
              "    </tr>\n",
              "  </thead>\n",
              "  <tbody>\n",
              "    <tr>\n",
              "      <th>0</th>\n",
              "      <td>17/18</td>\n",
              "      <td>2018-04-11</td>\n",
              "      <td>UEFA Champions League</td>\n",
              "      <td>Real Madrid</td>\n",
              "      <td>Juventus FC</td>\n",
              "      <td>90</td>\n",
              "      <td>1</td>\n",
              "      <td>r</td>\n",
              "      <td>Gianluigi Buffon</td>\n",
              "      <td>1:3</td>\n",
              "      <td>1:3</td>\n",
              "    </tr>\n",
              "    <tr>\n",
              "      <th>1</th>\n",
              "      <td>17/18</td>\n",
              "      <td>2018-02-14</td>\n",
              "      <td>UEFA Champions League</td>\n",
              "      <td>Real Madrid</td>\n",
              "      <td>Paris Saint-Germain</td>\n",
              "      <td>45</td>\n",
              "      <td>1</td>\n",
              "      <td>r</td>\n",
              "      <td>Alphonse Areola</td>\n",
              "      <td>1:1</td>\n",
              "      <td>3:1</td>\n",
              "    </tr>\n",
              "    <tr>\n",
              "      <th>2</th>\n",
              "      <td>17/18</td>\n",
              "      <td>2018-01-27</td>\n",
              "      <td>LaLiga</td>\n",
              "      <td>Real Madrid</td>\n",
              "      <td>Valencia CF</td>\n",
              "      <td>16</td>\n",
              "      <td>1</td>\n",
              "      <td>r</td>\n",
              "      <td>Neto</td>\n",
              "      <td>1:0</td>\n",
              "      <td>4:1</td>\n",
              "    </tr>\n",
              "    <tr>\n",
              "      <th>3</th>\n",
              "      <td>17/18</td>\n",
              "      <td>2018-01-27</td>\n",
              "      <td>LaLiga</td>\n",
              "      <td>Real Madrid</td>\n",
              "      <td>Valencia CF</td>\n",
              "      <td>38</td>\n",
              "      <td>1</td>\n",
              "      <td>r</td>\n",
              "      <td>Neto</td>\n",
              "      <td>2:0</td>\n",
              "      <td>4:1</td>\n",
              "    </tr>\n",
              "    <tr>\n",
              "      <th>4</th>\n",
              "      <td>17/18</td>\n",
              "      <td>2017-12-09</td>\n",
              "      <td>LaLiga</td>\n",
              "      <td>Real Madrid</td>\n",
              "      <td>Sevilla FC</td>\n",
              "      <td>31</td>\n",
              "      <td>1</td>\n",
              "      <td>r</td>\n",
              "      <td>Sergio Rico</td>\n",
              "      <td>3:0</td>\n",
              "      <td>5:0</td>\n",
              "    </tr>\n",
              "  </tbody>\n",
              "</table>\n",
              "</div>"
            ],
            "text/plain": [
              "  Temporada       Data  ... Placar no momento Resultado Final\n",
              "0     17/18 2018-04-11  ...               1:3             1:3\n",
              "1     17/18 2018-02-14  ...               1:1             3:1\n",
              "2     17/18 2018-01-27  ...               1:0             4:1\n",
              "3     17/18 2018-01-27  ...               2:0             4:1\n",
              "4     17/18 2017-12-09  ...               3:0             5:0\n",
              "\n",
              "[5 rows x 11 columns]"
            ]
          },
          "metadata": {},
          "execution_count": 79
        }
      ]
    },
    {
      "cell_type": "code",
      "metadata": {
        "colab": {
          "base_uri": "https://localhost:8080/",
          "height": 204
        },
        "id": "PIOxh63qT5n2",
        "outputId": "8de9bfd6-a94c-44ad-f6f8-9087c90521dc"
      },
      "source": [
        "df_juventus = df[df['Clube'] == 'Juventus FC']\n",
        "df_juventus.reset_index(drop = True, inplace = True)\n",
        "df_juventus.head()"
      ],
      "execution_count": 80,
      "outputs": [
        {
          "output_type": "execute_result",
          "data": {
            "text/html": [
              "<div>\n",
              "<style scoped>\n",
              "    .dataframe tbody tr th:only-of-type {\n",
              "        vertical-align: middle;\n",
              "    }\n",
              "\n",
              "    .dataframe tbody tr th {\n",
              "        vertical-align: top;\n",
              "    }\n",
              "\n",
              "    .dataframe thead th {\n",
              "        text-align: right;\n",
              "    }\n",
              "</style>\n",
              "<table border=\"1\" class=\"dataframe\">\n",
              "  <thead>\n",
              "    <tr style=\"text-align: right;\">\n",
              "      <th></th>\n",
              "      <th>Temporada</th>\n",
              "      <th>Data</th>\n",
              "      <th>Competicao</th>\n",
              "      <th>Clube</th>\n",
              "      <th>Adversario</th>\n",
              "      <th>Minuto</th>\n",
              "      <th>Gol?</th>\n",
              "      <th>Pe</th>\n",
              "      <th>Goleiro</th>\n",
              "      <th>Placar no momento</th>\n",
              "      <th>Resultado Final</th>\n",
              "    </tr>\n",
              "  </thead>\n",
              "  <tbody>\n",
              "    <tr>\n",
              "      <th>0</th>\n",
              "      <td>20/21</td>\n",
              "      <td>2021-05-15</td>\n",
              "      <td>Serie A</td>\n",
              "      <td>Juventus FC</td>\n",
              "      <td>Inter Milan</td>\n",
              "      <td>24</td>\n",
              "      <td>0</td>\n",
              "      <td>r</td>\n",
              "      <td>Samir Handanovic</td>\n",
              "      <td>1:0</td>\n",
              "      <td>3:2</td>\n",
              "    </tr>\n",
              "    <tr>\n",
              "      <th>1</th>\n",
              "      <td>20/21</td>\n",
              "      <td>2021-05-02</td>\n",
              "      <td>Serie A</td>\n",
              "      <td>Juventus FC</td>\n",
              "      <td>Udinese Calcio</td>\n",
              "      <td>83</td>\n",
              "      <td>1</td>\n",
              "      <td>r</td>\n",
              "      <td>Simone Scuffet</td>\n",
              "      <td>1:1</td>\n",
              "      <td>2:1</td>\n",
              "    </tr>\n",
              "    <tr>\n",
              "      <th>2</th>\n",
              "      <td>20/21</td>\n",
              "      <td>2021-03-14</td>\n",
              "      <td>Serie A</td>\n",
              "      <td>Juventus FC</td>\n",
              "      <td>Cagliari Calcio</td>\n",
              "      <td>25</td>\n",
              "      <td>1</td>\n",
              "      <td>r</td>\n",
              "      <td>Alessio Cragno</td>\n",
              "      <td>2:0</td>\n",
              "      <td>3:1</td>\n",
              "    </tr>\n",
              "    <tr>\n",
              "      <th>3</th>\n",
              "      <td>20/21</td>\n",
              "      <td>2021-02-02</td>\n",
              "      <td>Coppa Italia</td>\n",
              "      <td>Juventus FC</td>\n",
              "      <td>Inter Milan</td>\n",
              "      <td>26</td>\n",
              "      <td>1</td>\n",
              "      <td>r</td>\n",
              "      <td>Samir Handanovic</td>\n",
              "      <td>1:1</td>\n",
              "      <td>2:1</td>\n",
              "    </tr>\n",
              "    <tr>\n",
              "      <th>4</th>\n",
              "      <td>20/21</td>\n",
              "      <td>2020-12-16</td>\n",
              "      <td>Serie A</td>\n",
              "      <td>Juventus FC</td>\n",
              "      <td>Atalanta BC</td>\n",
              "      <td>61</td>\n",
              "      <td>0</td>\n",
              "      <td>r</td>\n",
              "      <td>Pierluigi Gollini</td>\n",
              "      <td>1:1</td>\n",
              "      <td>1:1</td>\n",
              "    </tr>\n",
              "  </tbody>\n",
              "</table>\n",
              "</div>"
            ],
            "text/plain": [
              "  Temporada       Data  ... Placar no momento Resultado Final\n",
              "0     20/21 2021-05-15  ...               1:0             3:2\n",
              "1     20/21 2021-05-02  ...               1:1             2:1\n",
              "2     20/21 2021-03-14  ...               2:0             3:1\n",
              "3     20/21 2021-02-02  ...               1:1             2:1\n",
              "4     20/21 2020-12-16  ...               1:1             1:1\n",
              "\n",
              "[5 rows x 11 columns]"
            ]
          },
          "metadata": {},
          "execution_count": 80
        }
      ]
    },
    {
      "cell_type": "markdown",
      "metadata": {
        "id": "BbXLDdpqecKm"
      },
      "source": [
        "## Análise por clube"
      ]
    },
    {
      "cell_type": "markdown",
      "metadata": {
        "id": "HbgQRrqmZvMP"
      },
      "source": [
        "### Portugal"
      ]
    },
    {
      "cell_type": "code",
      "metadata": {
        "colab": {
          "base_uri": "https://localhost:8080/"
        },
        "id": "rBg_aB0Qz0Hx",
        "outputId": "d5ea380f-ec29-4d17-ae48-7bf3e007565b"
      },
      "source": [
        "total_gols_portugal =  df_portugal['Gol?'].sum()\n",
        "total_cobrancas_portugal = df_portugal['Gol?'].count()\n",
        "print(f'Cobranças: {total_cobrancas_portugal} | Gols: {total_gols_portugal}')"
      ],
      "execution_count": 81,
      "outputs": [
        {
          "output_type": "stream",
          "name": "stdout",
          "text": [
            "Cobranças: 20 | Gols: 14\n"
          ]
        }
      ]
    },
    {
      "cell_type": "code",
      "metadata": {
        "colab": {
          "base_uri": "https://localhost:8080/",
          "height": 444
        },
        "id": "oOmq8wBNOmvp",
        "outputId": "22b9b8c9-394a-4588-b27d-612a0396b699"
      },
      "source": [
        "plt.figure(figsize = (10, 7))\n",
        "\n",
        "names = ['Cobranças', 'Gols']\n",
        "valores = [total_cobrancas_portugal, total_gols_portugal]\n",
        "\n",
        "plt.bar(names, valores)\n",
        "plt.yticks(np.arange(0, total_cobrancas_portugal + 1, 2))\n",
        "barlist = plt.bar(names, valores)\n",
        "barlist[0].set_color('#0a82d7')\n",
        "barlist[1].set_color('#1acf37')\n",
        "\n",
        "plt.text(x = names[0], y = valores[0]+0.2, s = total_cobrancas_portugal, fontsize = 12)\n",
        "plt.text(x = names[1], y = valores[1]+0.2, s = total_gols_portugal, fontsize = 12)\n",
        "plt.title('Cobranças x Gols (Portugal)')\n",
        "\n",
        "plt.show()"
      ],
      "execution_count": 82,
      "outputs": [
        {
          "output_type": "display_data",
          "data": {
            "image/png": "[encoded data removed]",
            "text/plain": [
              "<Figure size 720x504 with 1 Axes>"
            ]
          },
          "metadata": {
            "needs_background": "light"
          }
        }
      ]
    },
    {
      "cell_type": "markdown",
      "metadata": {
        "id": "9TQW3-Bgf7X8"
      },
      "source": [
        "### Manchester United"
      ]
    },
    {
      "cell_type": "code",
      "metadata": {
        "id": "WUchWMfqH9dr",
        "colab": {
          "base_uri": "https://localhost:8080/"
        },
        "outputId": "f93b232c-3311-492a-a99f-e2a29d9efcc8"
      },
      "source": [
        "total_cobrancas_mu = df_manchesterU['Gol?'].count()\n",
        "total_gols_mu = df_manchesterU['Gol?'].sum()\n",
        "print(f'Cobranças: {total_cobrancas_mu} | Gols: {total_gols_mu}')"
      ],
      "execution_count": 83,
      "outputs": [
        {
          "output_type": "stream",
          "name": "stdout",
          "text": [
            "Cobranças: 20 | Gols: 17\n"
          ]
        }
      ]
    },
    {
      "cell_type": "code",
      "metadata": {
        "id": "ElLgf5tkf2UF",
        "colab": {
          "base_uri": "https://localhost:8080/",
          "height": 444
        },
        "outputId": "f762e474-3d5a-483f-f522-51baa7723371"
      },
      "source": [
        "plt.figure(figsize=(10, 7))\n",
        "\n",
        "names = ['Cobranças', 'Gols']\n",
        "valores = [total_cobrancas_mu, total_gols_mu]\n",
        "\n",
        "plt.bar(names, valores)\n",
        "plt.yticks(np.arange(0, total_cobrancas_mu + 1, 2))\n",
        "barlist = plt.bar(names, valores)\n",
        "barlist[0].set_color('#0a82d7')\n",
        "barlist[1].set_color('#1acf37')\n",
        "\n",
        "plt.text(x = names[0], y = valores[0]+0.2, s = total_cobrancas_mu, fontsize = 12)\n",
        "plt.text(x = names[1], y = valores[1]+0.2, s = total_gols_mu, fontsize = 12)\n",
        "plt.title('Cobranças x Gols (Manchester United)')\n",
        "\n",
        "plt.show()"
      ],
      "execution_count": 84,
      "outputs": [
        {
          "output_type": "display_data",
          "data": {
            "image/png": "[encoded data removed]",
            "text/plain": [
              "<Figure size 720x504 with 1 Axes>"
            ]
          },
          "metadata": {
            "needs_background": "light"
          }
        }
      ]
    },
    {
      "cell_type": "markdown",
      "metadata": {
        "id": "YLl5GfV3f-QG"
      },
      "source": [
        "### Real Madrid"
      ]
    },
    {
      "cell_type": "code",
      "metadata": {
        "colab": {
          "base_uri": "https://localhost:8080/"
        },
        "id": "HaZkUShTf_jD",
        "outputId": "23bc6679-9169-4103-d624-8b0299d35f54"
      },
      "source": [
        "total_cobrancas_real = df_real_madrid['Gol?'].count()\n",
        "total_gols_real = df_real_madrid['Gol?'].sum()\n",
        "print(f'Cobranças: {total_cobrancas_real} | Gols: {total_gols_real}')"
      ],
      "execution_count": 85,
      "outputs": [
        {
          "output_type": "stream",
          "name": "stdout",
          "text": [
            "Cobranças: 92 | Gols: 79\n"
          ]
        }
      ]
    },
    {
      "cell_type": "code",
      "metadata": {
        "id": "oCTDcrwwgYYk",
        "colab": {
          "base_uri": "https://localhost:8080/",
          "height": 444
        },
        "outputId": "08733501-3967-4986-b603-b769a9418aff"
      },
      "source": [
        "plt.figure(figsize=(10, 7))\n",
        "\n",
        "names = ['Cobranças', 'Gols']\n",
        "valores = [total_cobrancas_real, total_gols_real]\n",
        "\n",
        "plt.bar(names, valores)\n",
        "plt.yticks(np.arange(0, total_cobrancas_real + 1, 5))\n",
        "barlist = plt.bar(names, valores)\n",
        "barlist[0].set_color('#0a82d7')\n",
        "barlist[1].set_color('#1acf37')\n",
        "\n",
        "plt.text(x = names[0], y = valores[0]+0.6, s = total_cobrancas_real, fontsize = 12)\n",
        "plt.text(x = names[1], y = valores[1]+0.6, s = total_gols_real, fontsize = 12)\n",
        "plt.title('Cobranças x Gols (Real Madrid)')\n",
        "\n",
        "plt.show()"
      ],
      "execution_count": 86,
      "outputs": [
        {
          "output_type": "display_data",
          "data": {
            "image/png": "[encoded data removed]",
            "text/plain": [
              "<Figure size 720x504 with 1 Axes>"
            ]
          },
          "metadata": {
            "needs_background": "light"
          }
        }
      ]
    },
    {
      "cell_type": "markdown",
      "metadata": {
        "id": "7wDrKoO4ggVw"
      },
      "source": [
        "### Juventus"
      ]
    },
    {
      "cell_type": "code",
      "metadata": {
        "colab": {
          "base_uri": "https://localhost:8080/"
        },
        "id": "u9jlagzDghOT",
        "outputId": "f1ad91f5-007d-4882-b961-e65d539b8d83"
      },
      "source": [
        "total_cobrancas_juventus = df_juventus['Gol?'].count()\n",
        "total_gols_juventus = df_juventus['Gol?'].sum()\n",
        "print(f'Cobranças: {total_cobrancas_juventus} | Gols: {total_gols_juventus}')"
      ],
      "execution_count": 87,
      "outputs": [
        {
          "output_type": "stream",
          "name": "stdout",
          "text": [
            "Cobranças: 34 | Gols: 29\n"
          ]
        }
      ]
    },
    {
      "cell_type": "code",
      "metadata": {
        "id": "u3paZaABgvvk",
        "colab": {
          "base_uri": "https://localhost:8080/",
          "height": 444
        },
        "outputId": "534d1c63-91ba-42e7-da10-375a70bb1136"
      },
      "source": [
        "plt.figure(figsize=(10, 7))\n",
        "\n",
        "names = ['Cobranças', 'Gols']\n",
        "valores = [total_cobrancas_juventus, total_gols_juventus]\n",
        "\n",
        "plt.bar(names, valores)\n",
        "plt.yticks(np.arange(0, total_cobrancas_juventus + 1, 2))\n",
        "barlist = plt.bar(names, valores)\n",
        "barlist[0].set_color('#0a82d7')\n",
        "barlist[1].set_color('#1acf37')\n",
        "\n",
        "plt.text(x = names[0], y = valores[0]+0.3, s = total_cobrancas_juventus, fontsize = 12)\n",
        "plt.text(x = names[1], y = valores[1]+0.3, s = total_gols_juventus, fontsize = 12)\n",
        "plt.title('Cobranças x Gols (Juventus)')\n",
        "\n",
        "plt.show()"
      ],
      "execution_count": 88,
      "outputs": [
        {
          "output_type": "display_data",
          "data": {
            "image/png": "[encoded data removed]",
            "text/plain": [
              "<Figure size 720x504 with 1 Axes>"
            ]
          },
          "metadata": {
            "needs_background": "light"
          }
        }
      ]
    },
    {
      "cell_type": "markdown",
      "metadata": {
        "id": "TPhZhV-ZANX3"
      },
      "source": [
        "## Gols por ano (Toda Carreira)"
      ]
    },
    {
      "cell_type": "code",
      "metadata": {
        "colab": {
          "base_uri": "https://localhost:8080/",
          "height": 204
        },
        "id": "36prlYx4_lko",
        "outputId": "b6e6ca9d-3b04-44eb-dfd7-79ea7df995b2"
      },
      "source": [
        "df.head()"
      ],
      "execution_count": 89,
      "outputs": [
        {
          "output_type": "execute_result",
          "data": {
            "text/html": [
              "<div>\n",
              "<style scoped>\n",
              "    .dataframe tbody tr th:only-of-type {\n",
              "        vertical-align: middle;\n",
              "    }\n",
              "\n",
              "    .dataframe tbody tr th {\n",
              "        vertical-align: top;\n",
              "    }\n",
              "\n",
              "    .dataframe thead th {\n",
              "        text-align: right;\n",
              "    }\n",
              "</style>\n",
              "<table border=\"1\" class=\"dataframe\">\n",
              "  <thead>\n",
              "    <tr style=\"text-align: right;\">\n",
              "      <th></th>\n",
              "      <th>Temporada</th>\n",
              "      <th>Data</th>\n",
              "      <th>Competicao</th>\n",
              "      <th>Clube</th>\n",
              "      <th>Adversario</th>\n",
              "      <th>Minuto</th>\n",
              "      <th>Gol?</th>\n",
              "      <th>Pe</th>\n",
              "      <th>Goleiro</th>\n",
              "      <th>Placar no momento</th>\n",
              "      <th>Resultado Final</th>\n",
              "    </tr>\n",
              "  </thead>\n",
              "  <tbody>\n",
              "    <tr>\n",
              "      <th>0</th>\n",
              "      <td>20/21</td>\n",
              "      <td>2021-06-23</td>\n",
              "      <td>EURO 2020</td>\n",
              "      <td>Portugal</td>\n",
              "      <td>France</td>\n",
              "      <td>60</td>\n",
              "      <td>1</td>\n",
              "      <td>r</td>\n",
              "      <td>Hugo Lloris</td>\n",
              "      <td>2:2</td>\n",
              "      <td>2:2</td>\n",
              "    </tr>\n",
              "    <tr>\n",
              "      <th>1</th>\n",
              "      <td>20/21</td>\n",
              "      <td>2021-06-23</td>\n",
              "      <td>EURO 2020</td>\n",
              "      <td>Portugal</td>\n",
              "      <td>France</td>\n",
              "      <td>30</td>\n",
              "      <td>1</td>\n",
              "      <td>r</td>\n",
              "      <td>Hugo Lloris</td>\n",
              "      <td>1:0</td>\n",
              "      <td>2:2</td>\n",
              "    </tr>\n",
              "    <tr>\n",
              "      <th>2</th>\n",
              "      <td>20/21</td>\n",
              "      <td>2021-06-15</td>\n",
              "      <td>EURO 2020</td>\n",
              "      <td>Portugal</td>\n",
              "      <td>Hungary</td>\n",
              "      <td>87</td>\n",
              "      <td>1</td>\n",
              "      <td>r</td>\n",
              "      <td>Péter Gulácsi</td>\n",
              "      <td>2:0</td>\n",
              "      <td>3:0</td>\n",
              "    </tr>\n",
              "    <tr>\n",
              "      <th>3</th>\n",
              "      <td>20/21</td>\n",
              "      <td>2021-05-15</td>\n",
              "      <td>Serie A</td>\n",
              "      <td>Juventus FC</td>\n",
              "      <td>Inter Milan</td>\n",
              "      <td>24</td>\n",
              "      <td>0</td>\n",
              "      <td>r</td>\n",
              "      <td>Samir Handanovic</td>\n",
              "      <td>1:0</td>\n",
              "      <td>3:2</td>\n",
              "    </tr>\n",
              "    <tr>\n",
              "      <th>4</th>\n",
              "      <td>20/21</td>\n",
              "      <td>2021-05-02</td>\n",
              "      <td>Serie A</td>\n",
              "      <td>Juventus FC</td>\n",
              "      <td>Udinese Calcio</td>\n",
              "      <td>83</td>\n",
              "      <td>1</td>\n",
              "      <td>r</td>\n",
              "      <td>Simone Scuffet</td>\n",
              "      <td>1:1</td>\n",
              "      <td>2:1</td>\n",
              "    </tr>\n",
              "  </tbody>\n",
              "</table>\n",
              "</div>"
            ],
            "text/plain": [
              "  Temporada       Data  ... Placar no momento Resultado Final\n",
              "0     20/21 2021-06-23  ...               2:2             2:2\n",
              "1     20/21 2021-06-23  ...               1:0             2:2\n",
              "2     20/21 2021-06-15  ...               2:0             3:0\n",
              "3     20/21 2021-05-15  ...               1:0             3:2\n",
              "4     20/21 2021-05-02  ...               1:1             2:1\n",
              "\n",
              "[5 rows x 11 columns]"
            ]
          },
          "metadata": {},
          "execution_count": 89
        }
      ]
    },
    {
      "cell_type": "code",
      "metadata": {
        "colab": {
          "base_uri": "https://localhost:8080/"
        },
        "id": "OFzbR1mS7HVt",
        "outputId": "ad030675-9ddf-4947-d0d3-3f4c9e3e1331"
      },
      "source": [
        "cobrancas_por_ano = df.groupby(df['Data'].dt.year)['Gol?'].count()\n",
        "cobrancas_por_ano"
      ],
      "execution_count": 90,
      "outputs": [
        {
          "output_type": "execute_result",
          "data": {
            "text/plain": [
              "Data\n",
              "2005     1\n",
              "2006     3\n",
              "2007     9\n",
              "2008     5\n",
              "2009     7\n",
              "2010     8\n",
              "2011    13\n",
              "2012    12\n",
              "2013    11\n",
              "2014    14\n",
              "2015    14\n",
              "2016    13\n",
              "2017    10\n",
              "2018    10\n",
              "2019     9\n",
              "2020    20\n",
              "2021     7\n",
              "Name: Gol?, dtype: int64"
            ]
          },
          "metadata": {},
          "execution_count": 90
        }
      ]
    },
    {
      "cell_type": "code",
      "metadata": {
        "colab": {
          "base_uri": "https://localhost:8080/"
        },
        "id": "ZCcATxUp_2uG",
        "outputId": "1e5de097-31cc-4b85-cd35-6256ed054951"
      },
      "source": [
        "gols_por_ano = (df.groupby(df['Data'].dt.year)['Gol?'].sum())\n",
        "gols_por_ano"
      ],
      "execution_count": 91,
      "outputs": [
        {
          "output_type": "execute_result",
          "data": {
            "text/plain": [
              "Data\n",
              "2005     1\n",
              "2006     1\n",
              "2007     8\n",
              "2008     4\n",
              "2009     6\n",
              "2010     8\n",
              "2011    13\n",
              "2012    10\n",
              "2013     9\n",
              "2014    13\n",
              "2015    11\n",
              "2016     7\n",
              "2017     8\n",
              "2018     9\n",
              "2019     8\n",
              "2020    17\n",
              "2021     6\n",
              "Name: Gol?, dtype: int64"
            ]
          },
          "metadata": {},
          "execution_count": 91
        }
      ]
    },
    {
      "cell_type": "code",
      "metadata": {
        "id": "Tcakex8MitiG"
      },
      "source": [
        "altura_gols = []\n",
        "for i in gols_por_ano:\n",
        "  altura_gols.append(i)\n",
        "\n",
        "altura_cobrancas = []\n",
        "for i in cobrancas_por_ano:\n",
        "  altura_cobrancas.append(i)\n",
        "\n",
        "posicao = []\n",
        "for i in range(len(cobrancas_por_ano)):\n",
        "  posicao.append(i)"
      ],
      "execution_count": 92,
      "outputs": []
    },
    {
      "cell_type": "code",
      "metadata": {
        "colab": {
          "base_uri": "https://localhost:8080/",
          "height": 623
        },
        "id": "gZy37mcq9XIp",
        "outputId": "48f708cb-dfbc-40d0-bee4-ac16c7d94bb2"
      },
      "source": [
        "plt.figure(figsize = (16, 10))\n",
        "\n",
        "barWidth = 0.4\n",
        "\n",
        "r1 = np.arange(len(cobrancas_por_ano))\n",
        "r2 = [x + barWidth for x in r1]\n",
        "\n",
        "#Criando as barras\n",
        "plt.bar(r1, height = cobrancas_por_ano, color = '#116C8A', width = barWidth, label = 'Cobranças')\n",
        "plt.bar(r2, height = gols_por_ano, color = '#6495ED', width = barWidth, label = 'Gols')\n",
        "\n",
        "#Colocando titulo, eixo Y e X\n",
        "plt.title('CR7 \\nCobranças x Gols por Ano')\n",
        "plt.yticks(np.arange(0, 21))\n",
        "plt.xticks([r + 0.2 for r in range(0, 17)], np.sort(df['Data'].dt.year.unique()))\n",
        "\n",
        "#Colocando valores em cada barra\n",
        "for j in range(len(cobrancas_por_ano)):\n",
        "  plt.text(x = posicao[j]-0.1, y = altura_cobrancas[j]+0.2, s = str(cobrancas_por_ano.iloc[j]))\n",
        "\n",
        "for i in range(len(gols_por_ano)):\n",
        "  plt.text(x = posicao[i]+0.3, y = altura_gols[i]+0.2, s = str(gols_por_ano.iloc[i]))\n",
        "\n",
        "\n",
        "plt.legend()\n",
        "\n",
        "#Salva o gráfico como img. (é preciso estar antes do plt.show() )\n",
        "plt.savefig('grafico-CobrancasXgols_porAno.png', bbox_inches='tight', dpi = 300)\n",
        "\n",
        "plt.show()"
      ],
      "execution_count": 93,
      "outputs": [
        {
          "output_type": "display_data",
          "data": {
            "image/png": "[encoded data removed]",
            "text/plain": [
              "<Figure size 1152x720 with 1 Axes>"
            ]
          },
          "metadata": {
            "needs_background": "light"
          }
        }
      ]
    },
    {
      "cell_type": "code",
      "metadata": {
        "id": "y6G75-vHqGDH"
      },
      "source": [
        ""
      ],
      "execution_count": 93,
      "outputs": []
    },
    {
      "cell_type": "markdown",
      "metadata": {
        "id": "8binH7IjeG5E"
      },
      "source": [
        "## Top 10 Goleiros enfrentados"
      ]
    },
    {
      "cell_type": "code",
      "metadata": {
        "colab": {
          "base_uri": "https://localhost:8080/",
          "height": 359
        },
        "id": "1bix8NDZeKxR",
        "outputId": "892bf719-7111-4c54-d657-9998d1a27208"
      },
      "source": [
        "top10_goleiros_enfrentados = pd.DataFrame(df['Goleiro'].value_counts())\n",
        "top10_goleiros_enfrentados = top10_goleiros_enfrentados.head(10)\n",
        "top10_goleiros_enfrentados"
      ],
      "execution_count": 94,
      "outputs": [
        {
          "output_type": "execute_result",
          "data": {
            "text/html": [
              "<div>\n",
              "<style scoped>\n",
              "    .dataframe tbody tr th:only-of-type {\n",
              "        vertical-align: middle;\n",
              "    }\n",
              "\n",
              "    .dataframe tbody tr th {\n",
              "        vertical-align: top;\n",
              "    }\n",
              "\n",
              "    .dataframe thead th {\n",
              "        text-align: right;\n",
              "    }\n",
              "</style>\n",
              "<table border=\"1\" class=\"dataframe\">\n",
              "  <thead>\n",
              "    <tr style=\"text-align: right;\">\n",
              "      <th></th>\n",
              "      <th>Goleiro</th>\n",
              "    </tr>\n",
              "  </thead>\n",
              "  <tbody>\n",
              "    <tr>\n",
              "      <th>Daniel Aranzubia</th>\n",
              "      <td>5</td>\n",
              "    </tr>\n",
              "    <tr>\n",
              "      <th>Gorka Iraizoz</th>\n",
              "      <td>5</td>\n",
              "    </tr>\n",
              "    <tr>\n",
              "      <th>Diego Alves</th>\n",
              "      <td>4</td>\n",
              "    </tr>\n",
              "    <tr>\n",
              "      <th>Hugo Lloris</th>\n",
              "      <td>4</td>\n",
              "    </tr>\n",
              "    <tr>\n",
              "      <th>Vladislav Stoyanov</th>\n",
              "      <td>4</td>\n",
              "    </tr>\n",
              "    <tr>\n",
              "      <th>Miguel Ángel Moyá</th>\n",
              "      <td>4</td>\n",
              "    </tr>\n",
              "    <tr>\n",
              "      <th>Willy Caballero</th>\n",
              "      <td>3</td>\n",
              "    </tr>\n",
              "    <tr>\n",
              "      <th>Manu Herrera</th>\n",
              "      <td>3</td>\n",
              "    </tr>\n",
              "    <tr>\n",
              "      <th>Sergio Rico</th>\n",
              "      <td>3</td>\n",
              "    </tr>\n",
              "    <tr>\n",
              "      <th>Víctor Valdés</th>\n",
              "      <td>3</td>\n",
              "    </tr>\n",
              "  </tbody>\n",
              "</table>\n",
              "</div>"
            ],
            "text/plain": [
              "                    Goleiro\n",
              "Daniel Aranzubia          5\n",
              "Gorka Iraizoz             5\n",
              "Diego Alves               4\n",
              "Hugo Lloris               4\n",
              "Vladislav Stoyanov        4\n",
              "Miguel Ángel Moyá         4\n",
              "Willy Caballero           3\n",
              "Manu Herrera              3\n",
              "Sergio Rico               3\n",
              "Víctor Valdés             3"
            ]
          },
          "metadata": {},
          "execution_count": 94
        }
      ]
    },
    {
      "cell_type": "code",
      "metadata": {
        "id": "BjK_3oyLikp7"
      },
      "source": [
        ""
      ],
      "execution_count": 94,
      "outputs": []
    },
    {
      "cell_type": "markdown",
      "metadata": {
        "id": "sBYq-qZkkY_t"
      },
      "source": [
        "## Gols por Temporada"
      ]
    },
    {
      "cell_type": "code",
      "metadata": {
        "id": "q5Oo4O3Uj6jM"
      },
      "source": [
        "gols_por_temporada = pd.DataFrame(df.groupby(df['Temporada'])['Gol?'].sum())\n"
      ],
      "execution_count": 95,
      "outputs": []
    },
    {
      "cell_type": "markdown",
      "metadata": {
        "id": "_Ojo8lW0jnhj"
      },
      "source": [
        "# Pênaltis convertidos por Competição"
      ]
    },
    {
      "cell_type": "code",
      "metadata": {
        "colab": {
          "base_uri": "https://localhost:8080/",
          "height": 607
        },
        "id": "krQQPfeli9Od",
        "outputId": "9f9e7aa8-1516-4245-c904-ff36916ea58f"
      },
      "source": [
        "penaltis_por_competicao = pd.DataFrame(df.groupby(df['Competicao'])['Gol?'].count())\n",
        "penaltis_por_competicao.sort_values(['Gol?'], ascending = False, inplace = True)\n",
        "penaltis_por_competicao.rename(columns = {'Gol?': 'Gols'}, inplace = True)\n",
        "penaltis_por_competicao"
      ],
      "execution_count": 96,
      "outputs": [
        {
          "output_type": "execute_result",
          "data": {
            "text/html": [
              "<div>\n",
              "<style scoped>\n",
              "    .dataframe tbody tr th:only-of-type {\n",
              "        vertical-align: middle;\n",
              "    }\n",
              "\n",
              "    .dataframe tbody tr th {\n",
              "        vertical-align: top;\n",
              "    }\n",
              "\n",
              "    .dataframe thead th {\n",
              "        text-align: right;\n",
              "    }\n",
              "</style>\n",
              "<table border=\"1\" class=\"dataframe\">\n",
              "  <thead>\n",
              "    <tr style=\"text-align: right;\">\n",
              "      <th></th>\n",
              "      <th>Gols</th>\n",
              "    </tr>\n",
              "    <tr>\n",
              "      <th>Competicao</th>\n",
              "      <th></th>\n",
              "    </tr>\n",
              "  </thead>\n",
              "  <tbody>\n",
              "    <tr>\n",
              "      <th>LaLiga</th>\n",
              "      <td>72</td>\n",
              "    </tr>\n",
              "    <tr>\n",
              "      <th>Serie A</th>\n",
              "      <td>27</td>\n",
              "    </tr>\n",
              "    <tr>\n",
              "      <th>UEFA Champions League</th>\n",
              "      <td>22</td>\n",
              "    </tr>\n",
              "    <tr>\n",
              "      <th>Premier League</th>\n",
              "      <td>13</td>\n",
              "    </tr>\n",
              "    <tr>\n",
              "      <th>European Qualifiers</th>\n",
              "      <td>5</td>\n",
              "    </tr>\n",
              "    <tr>\n",
              "      <th>International Friendlies</th>\n",
              "      <td>4</td>\n",
              "    </tr>\n",
              "    <tr>\n",
              "      <th>World Cup qualification Europe</th>\n",
              "      <td>3</td>\n",
              "    </tr>\n",
              "    <tr>\n",
              "      <th>Coppa Italia</th>\n",
              "      <td>3</td>\n",
              "    </tr>\n",
              "    <tr>\n",
              "      <th>EURO 2020</th>\n",
              "      <td>3</td>\n",
              "    </tr>\n",
              "    <tr>\n",
              "      <th>FA Cup</th>\n",
              "      <td>3</td>\n",
              "    </tr>\n",
              "    <tr>\n",
              "      <th>Copa del Rey</th>\n",
              "      <td>3</td>\n",
              "    </tr>\n",
              "    <tr>\n",
              "      <th>EFL Cup</th>\n",
              "      <td>2</td>\n",
              "    </tr>\n",
              "    <tr>\n",
              "      <th>World Cup 2018</th>\n",
              "      <td>2</td>\n",
              "    </tr>\n",
              "    <tr>\n",
              "      <th>World Cup 2006</th>\n",
              "      <td>1</td>\n",
              "    </tr>\n",
              "    <tr>\n",
              "      <th>Confederations Cup 2017</th>\n",
              "      <td>1</td>\n",
              "    </tr>\n",
              "    <tr>\n",
              "      <th>EURO 2016</th>\n",
              "      <td>1</td>\n",
              "    </tr>\n",
              "    <tr>\n",
              "      <th>FIFA Club World Cup</th>\n",
              "      <td>1</td>\n",
              "    </tr>\n",
              "  </tbody>\n",
              "</table>\n",
              "</div>"
            ],
            "text/plain": [
              "                                Gols\n",
              "Competicao                          \n",
              "LaLiga                            72\n",
              "Serie A                           27\n",
              "UEFA Champions League             22\n",
              "Premier League                    13\n",
              "European Qualifiers                5\n",
              "International Friendlies           4\n",
              "World Cup qualification Europe     3\n",
              "Coppa Italia                       3\n",
              "EURO 2020                          3\n",
              "FA Cup                             3\n",
              "Copa del Rey                       3\n",
              "EFL Cup                            2\n",
              "World Cup 2018                     2\n",
              "World Cup 2006                     1\n",
              "Confederations Cup 2017            1\n",
              "EURO 2016                          1\n",
              "FIFA Club World Cup                1"
            ]
          },
          "metadata": {},
          "execution_count": 96
        }
      ]
    },
    {
      "cell_type": "code",
      "metadata": {
        "id": "fnkB3FlWo7L3"
      },
      "source": [
        ""
      ],
      "execution_count": 96,
      "outputs": []
    }
  ]
}