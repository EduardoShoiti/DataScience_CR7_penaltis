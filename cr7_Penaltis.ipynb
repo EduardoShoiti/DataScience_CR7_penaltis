{
  "nbformat": 4,
  "nbformat_minor": 0,
  "metadata": {
    "colab": {
      "name": "cr7_Penaltis.ipynb",
      "provenance": [],
      "collapsed_sections": [],
      "authorship_tag": "ABX9TyOEGzE66d7SbWVHCCorxpLl",
      "include_colab_link": true
    },
    "kernelspec": {
      "name": "python3",
      "display_name": "Python 3"
    },
    "language_info": {
      "name": "python"
    }
  },
  "cells": [
    {
      "cell_type": "markdown",
      "metadata": {
        "id": "view-in-github",
        "colab_type": "text"
      },
      "source": [
        "<a href=\"https://colab.research.google.com/github/EduardoShoiti/DataScience_CR7_penaltis/blob/master/cr7_Penaltis.ipynb\" target=\"_parent\"><img src=\"https://colab.research.google.com/assets/colab-badge.svg\" alt=\"Open In Colab\"/></a>"
      ]
    },
    {
      "cell_type": "code",
      "metadata": {
        "id": "XyPIjG5lxFMy"
      },
      "source": [
        "import pandas as pd\n",
        "import numpy as np\n",
        "import matplotlib.pyplot as plt"
      ],
      "execution_count": 420,
      "outputs": []
    },
    {
      "cell_type": "markdown",
      "metadata": {
        "id": "BvGGDnf09J_6"
      },
      "source": [
        "## Criação do DataFrame "
      ]
    },
    {
      "cell_type": "code",
      "metadata": {
        "id": "A27RdmQCx_OE"
      },
      "source": [
        "dataset = pd.read_csv('Ronaldo_penalties.csv')"
      ],
      "execution_count": 421,
      "outputs": []
    },
    {
      "cell_type": "code",
      "metadata": {
        "colab": {
          "base_uri": "https://localhost:8080/",
          "height": 204
        },
        "id": "T7Hn37riycc5",
        "outputId": "3f16e031-3339-4821-cbbc-9c7ec5bd883a"
      },
      "source": [
        "dataset.head()"
      ],
      "execution_count": 422,
      "outputs": [
        {
          "output_type": "execute_result",
          "data": {
            "text/html": [
              "<div>\n",
              "<style scoped>\n",
              "    .dataframe tbody tr th:only-of-type {\n",
              "        vertical-align: middle;\n",
              "    }\n",
              "\n",
              "    .dataframe tbody tr th {\n",
              "        vertical-align: top;\n",
              "    }\n",
              "\n",
              "    .dataframe thead th {\n",
              "        text-align: right;\n",
              "    }\n",
              "</style>\n",
              "<table border=\"1\" class=\"dataframe\">\n",
              "  <thead>\n",
              "    <tr style=\"text-align: right;\">\n",
              "      <th></th>\n",
              "      <th>Unnamed: 0</th>\n",
              "      <th>Season</th>\n",
              "      <th>Competition</th>\n",
              "      <th>Club</th>\n",
              "      <th>Against</th>\n",
              "      <th>Date</th>\n",
              "      <th>Minute</th>\n",
              "      <th>Goalkeeper</th>\n",
              "      <th>Success?</th>\n",
              "      <th>Score at this moment</th>\n",
              "      <th>Final result</th>\n",
              "      <th>Foot</th>\n",
              "      <th>Area</th>\n",
              "    </tr>\n",
              "  </thead>\n",
              "  <tbody>\n",
              "    <tr>\n",
              "      <th>0</th>\n",
              "      <td>0</td>\n",
              "      <td>20/21</td>\n",
              "      <td>EURO 2020</td>\n",
              "      <td>Portugal</td>\n",
              "      <td>France</td>\n",
              "      <td>2021-06-23</td>\n",
              "      <td>60</td>\n",
              "      <td>Hugo Lloris</td>\n",
              "      <td>1</td>\n",
              "      <td>2:2</td>\n",
              "      <td>2:2</td>\n",
              "      <td>r</td>\n",
              "      <td>1</td>\n",
              "    </tr>\n",
              "    <tr>\n",
              "      <th>1</th>\n",
              "      <td>1</td>\n",
              "      <td>20/21</td>\n",
              "      <td>EURO 2020</td>\n",
              "      <td>Portugal</td>\n",
              "      <td>France</td>\n",
              "      <td>2021-06-23</td>\n",
              "      <td>30</td>\n",
              "      <td>Hugo Lloris</td>\n",
              "      <td>1</td>\n",
              "      <td>1:0</td>\n",
              "      <td>2:2</td>\n",
              "      <td>r</td>\n",
              "      <td>1</td>\n",
              "    </tr>\n",
              "    <tr>\n",
              "      <th>2</th>\n",
              "      <td>2</td>\n",
              "      <td>20/21</td>\n",
              "      <td>EURO 2020</td>\n",
              "      <td>Portugal</td>\n",
              "      <td>Hungary</td>\n",
              "      <td>2021-06-15</td>\n",
              "      <td>87</td>\n",
              "      <td>Péter Gulácsi</td>\n",
              "      <td>1</td>\n",
              "      <td>2:0</td>\n",
              "      <td>3:0</td>\n",
              "      <td>r</td>\n",
              "      <td>5</td>\n",
              "    </tr>\n",
              "    <tr>\n",
              "      <th>3</th>\n",
              "      <td>3</td>\n",
              "      <td>20/21</td>\n",
              "      <td>Serie A</td>\n",
              "      <td>Juventus FC</td>\n",
              "      <td>Inter Milan</td>\n",
              "      <td>2021-05-15</td>\n",
              "      <td>24</td>\n",
              "      <td>Samir Handanovic</td>\n",
              "      <td>0</td>\n",
              "      <td>1:0</td>\n",
              "      <td>3:2</td>\n",
              "      <td>r</td>\n",
              "      <td>3</td>\n",
              "    </tr>\n",
              "    <tr>\n",
              "      <th>4</th>\n",
              "      <td>4</td>\n",
              "      <td>20/21</td>\n",
              "      <td>Serie A</td>\n",
              "      <td>Juventus FC</td>\n",
              "      <td>Udinese Calcio</td>\n",
              "      <td>2021-05-02</td>\n",
              "      <td>83</td>\n",
              "      <td>Simone Scuffet</td>\n",
              "      <td>1</td>\n",
              "      <td>1:1</td>\n",
              "      <td>2:1</td>\n",
              "      <td>r</td>\n",
              "      <td>1</td>\n",
              "    </tr>\n",
              "  </tbody>\n",
              "</table>\n",
              "</div>"
            ],
            "text/plain": [
              "   Unnamed: 0 Season Competition  ... Final result Foot Area\n",
              "0           0  20/21   EURO 2020  ...          2:2    r    1\n",
              "1           1  20/21   EURO 2020  ...          2:2    r    1\n",
              "2           2  20/21   EURO 2020  ...          3:0    r    5\n",
              "3           3  20/21     Serie A  ...          3:2    r    3\n",
              "4           4  20/21     Serie A  ...          2:1    r    1\n",
              "\n",
              "[5 rows x 13 columns]"
            ]
          },
          "metadata": {},
          "execution_count": 422
        }
      ]
    },
    {
      "cell_type": "code",
      "metadata": {
        "id": "3QI7U4807aOY"
      },
      "source": [
        "# Transformando Date para tipo datatime\n",
        "dataset['Date'] = pd.to_datetime(dataset['Date'])"
      ],
      "execution_count": 423,
      "outputs": []
    },
    {
      "cell_type": "code",
      "metadata": {
        "colab": {
          "base_uri": "https://localhost:8080/"
        },
        "id": "OZb9clys7u3V",
        "outputId": "7717490d-b245-4ace-d45e-e5ee9be8bb75"
      },
      "source": [
        "dataset.dtypes"
      ],
      "execution_count": 424,
      "outputs": [
        {
          "output_type": "execute_result",
          "data": {
            "text/plain": [
              "Unnamed: 0                       int64\n",
              "Season                          object\n",
              "Competition                     object\n",
              "Club                            object\n",
              "Against                         object\n",
              "Date                    datetime64[ns]\n",
              "Minute                           int64\n",
              "Goalkeeper                      object\n",
              "Success?                         int64\n",
              "Score at this moment            object\n",
              "Final result                    object\n",
              "Foot                            object\n",
              "Area                             int64\n",
              "dtype: object"
            ]
          },
          "metadata": {},
          "execution_count": 424
        }
      ]
    },
    {
      "cell_type": "code",
      "metadata": {
        "colab": {
          "base_uri": "https://localhost:8080/"
        },
        "id": "dvGhdEJnydUo",
        "outputId": "f60fb572-1b24-4634-c4f9-457f7764e54f"
      },
      "source": [
        "dataset[dataset.isnull()].sum()"
      ],
      "execution_count": 425,
      "outputs": [
        {
          "output_type": "execute_result",
          "data": {
            "text/plain": [
              "Unnamed: 0              0.0\n",
              "Season                  0.0\n",
              "Competition             0.0\n",
              "Club                    0.0\n",
              "Against                 0.0\n",
              "Minute                  0.0\n",
              "Goalkeeper              0.0\n",
              "Success?                0.0\n",
              "Score at this moment    0.0\n",
              "Final result            0.0\n",
              "Foot                    0.0\n",
              "Area                    0.0\n",
              "dtype: float64"
            ]
          },
          "metadata": {},
          "execution_count": 425
        }
      ]
    },
    {
      "cell_type": "code",
      "metadata": {
        "id": "TLjQeLWbzIZP"
      },
      "source": [
        "df = dataset[['Season', 'Date', 'Competition', 'Club', 'Against', 'Minute', 'Success?', 'Foot', 'Goalkeeper', 'Score at this moment', 'Final result']]"
      ],
      "execution_count": 426,
      "outputs": []
    },
    {
      "cell_type": "code",
      "metadata": {
        "id": "Xyjp4vdO7icY"
      },
      "source": [
        "df.columns = ['Temporada', 'Data', 'Competicao', 'Clube', 'Adversario', 'Minuto', 'Gol?', 'Pe', 'Goleiro', 'Placar no momento', 'Resultado Final']"
      ],
      "execution_count": 427,
      "outputs": []
    },
    {
      "cell_type": "code",
      "metadata": {
        "id": "j9ie0PEJ8uzy",
        "colab": {
          "base_uri": "https://localhost:8080/",
          "height": 204
        },
        "outputId": "5491e301-11a8-4772-c678-40025f4b7791"
      },
      "source": [
        "df.head()"
      ],
      "execution_count": 428,
      "outputs": [
        {
          "output_type": "execute_result",
          "data": {
            "text/html": [
              "<div>\n",
              "<style scoped>\n",
              "    .dataframe tbody tr th:only-of-type {\n",
              "        vertical-align: middle;\n",
              "    }\n",
              "\n",
              "    .dataframe tbody tr th {\n",
              "        vertical-align: top;\n",
              "    }\n",
              "\n",
              "    .dataframe thead th {\n",
              "        text-align: right;\n",
              "    }\n",
              "</style>\n",
              "<table border=\"1\" class=\"dataframe\">\n",
              "  <thead>\n",
              "    <tr style=\"text-align: right;\">\n",
              "      <th></th>\n",
              "      <th>Temporada</th>\n",
              "      <th>Data</th>\n",
              "      <th>Competicao</th>\n",
              "      <th>Clube</th>\n",
              "      <th>Adversario</th>\n",
              "      <th>Minuto</th>\n",
              "      <th>Gol?</th>\n",
              "      <th>Pe</th>\n",
              "      <th>Goleiro</th>\n",
              "      <th>Placar no momento</th>\n",
              "      <th>Resultado Final</th>\n",
              "    </tr>\n",
              "  </thead>\n",
              "  <tbody>\n",
              "    <tr>\n",
              "      <th>0</th>\n",
              "      <td>20/21</td>\n",
              "      <td>2021-06-23</td>\n",
              "      <td>EURO 2020</td>\n",
              "      <td>Portugal</td>\n",
              "      <td>France</td>\n",
              "      <td>60</td>\n",
              "      <td>1</td>\n",
              "      <td>r</td>\n",
              "      <td>Hugo Lloris</td>\n",
              "      <td>2:2</td>\n",
              "      <td>2:2</td>\n",
              "    </tr>\n",
              "    <tr>\n",
              "      <th>1</th>\n",
              "      <td>20/21</td>\n",
              "      <td>2021-06-23</td>\n",
              "      <td>EURO 2020</td>\n",
              "      <td>Portugal</td>\n",
              "      <td>France</td>\n",
              "      <td>30</td>\n",
              "      <td>1</td>\n",
              "      <td>r</td>\n",
              "      <td>Hugo Lloris</td>\n",
              "      <td>1:0</td>\n",
              "      <td>2:2</td>\n",
              "    </tr>\n",
              "    <tr>\n",
              "      <th>2</th>\n",
              "      <td>20/21</td>\n",
              "      <td>2021-06-15</td>\n",
              "      <td>EURO 2020</td>\n",
              "      <td>Portugal</td>\n",
              "      <td>Hungary</td>\n",
              "      <td>87</td>\n",
              "      <td>1</td>\n",
              "      <td>r</td>\n",
              "      <td>Péter Gulácsi</td>\n",
              "      <td>2:0</td>\n",
              "      <td>3:0</td>\n",
              "    </tr>\n",
              "    <tr>\n",
              "      <th>3</th>\n",
              "      <td>20/21</td>\n",
              "      <td>2021-05-15</td>\n",
              "      <td>Serie A</td>\n",
              "      <td>Juventus FC</td>\n",
              "      <td>Inter Milan</td>\n",
              "      <td>24</td>\n",
              "      <td>0</td>\n",
              "      <td>r</td>\n",
              "      <td>Samir Handanovic</td>\n",
              "      <td>1:0</td>\n",
              "      <td>3:2</td>\n",
              "    </tr>\n",
              "    <tr>\n",
              "      <th>4</th>\n",
              "      <td>20/21</td>\n",
              "      <td>2021-05-02</td>\n",
              "      <td>Serie A</td>\n",
              "      <td>Juventus FC</td>\n",
              "      <td>Udinese Calcio</td>\n",
              "      <td>83</td>\n",
              "      <td>1</td>\n",
              "      <td>r</td>\n",
              "      <td>Simone Scuffet</td>\n",
              "      <td>1:1</td>\n",
              "      <td>2:1</td>\n",
              "    </tr>\n",
              "  </tbody>\n",
              "</table>\n",
              "</div>"
            ],
            "text/plain": [
              "  Temporada       Data  ... Placar no momento Resultado Final\n",
              "0     20/21 2021-06-23  ...               2:2             2:2\n",
              "1     20/21 2021-06-23  ...               1:0             2:2\n",
              "2     20/21 2021-06-15  ...               2:0             3:0\n",
              "3     20/21 2021-05-15  ...               1:0             3:2\n",
              "4     20/21 2021-05-02  ...               1:1             2:1\n",
              "\n",
              "[5 rows x 11 columns]"
            ]
          },
          "metadata": {},
          "execution_count": 428
        }
      ]
    },
    {
      "cell_type": "markdown",
      "metadata": {
        "id": "5J623ePQ-ILI"
      },
      "source": [
        "## Separando pênaltis por clube"
      ]
    },
    {
      "cell_type": "code",
      "metadata": {
        "colab": {
          "base_uri": "https://localhost:8080/"
        },
        "id": "7Ddqj25mx0vF",
        "outputId": "26182260-bd80-4ad6-bc24-d9db7b3302dd"
      },
      "source": [
        "df['Clube'].unique()"
      ],
      "execution_count": 429,
      "outputs": [
        {
          "output_type": "execute_result",
          "data": {
            "text/plain": [
              "array(['Portugal', 'Juventus FC', 'Real Madrid', 'Manchester United'],\n",
              "      dtype=object)"
            ]
          },
          "metadata": {},
          "execution_count": 429
        }
      ]
    },
    {
      "cell_type": "code",
      "metadata": {
        "colab": {
          "base_uri": "https://localhost:8080/",
          "height": 204
        },
        "id": "mEx-M8mHFlOq",
        "outputId": "9a6ec1fb-5309-4595-d763-e29a0795b62b"
      },
      "source": [
        "df_portugal = df[df['Clube'] == 'Portugal']\n",
        "df_portugal.reset_index(drop = True, inplace = True)\n",
        "df_portugal.head()"
      ],
      "execution_count": 430,
      "outputs": [
        {
          "output_type": "execute_result",
          "data": {
            "text/html": [
              "<div>\n",
              "<style scoped>\n",
              "    .dataframe tbody tr th:only-of-type {\n",
              "        vertical-align: middle;\n",
              "    }\n",
              "\n",
              "    .dataframe tbody tr th {\n",
              "        vertical-align: top;\n",
              "    }\n",
              "\n",
              "    .dataframe thead th {\n",
              "        text-align: right;\n",
              "    }\n",
              "</style>\n",
              "<table border=\"1\" class=\"dataframe\">\n",
              "  <thead>\n",
              "    <tr style=\"text-align: right;\">\n",
              "      <th></th>\n",
              "      <th>Temporada</th>\n",
              "      <th>Data</th>\n",
              "      <th>Competicao</th>\n",
              "      <th>Clube</th>\n",
              "      <th>Adversario</th>\n",
              "      <th>Minuto</th>\n",
              "      <th>Gol?</th>\n",
              "      <th>Pe</th>\n",
              "      <th>Goleiro</th>\n",
              "      <th>Placar no momento</th>\n",
              "      <th>Resultado Final</th>\n",
              "    </tr>\n",
              "  </thead>\n",
              "  <tbody>\n",
              "    <tr>\n",
              "      <th>0</th>\n",
              "      <td>20/21</td>\n",
              "      <td>2021-06-23</td>\n",
              "      <td>EURO 2020</td>\n",
              "      <td>Portugal</td>\n",
              "      <td>France</td>\n",
              "      <td>60</td>\n",
              "      <td>1</td>\n",
              "      <td>r</td>\n",
              "      <td>Hugo Lloris</td>\n",
              "      <td>2:2</td>\n",
              "      <td>2:2</td>\n",
              "    </tr>\n",
              "    <tr>\n",
              "      <th>1</th>\n",
              "      <td>20/21</td>\n",
              "      <td>2021-06-23</td>\n",
              "      <td>EURO 2020</td>\n",
              "      <td>Portugal</td>\n",
              "      <td>France</td>\n",
              "      <td>30</td>\n",
              "      <td>1</td>\n",
              "      <td>r</td>\n",
              "      <td>Hugo Lloris</td>\n",
              "      <td>1:0</td>\n",
              "      <td>2:2</td>\n",
              "    </tr>\n",
              "    <tr>\n",
              "      <th>2</th>\n",
              "      <td>20/21</td>\n",
              "      <td>2021-06-15</td>\n",
              "      <td>EURO 2020</td>\n",
              "      <td>Portugal</td>\n",
              "      <td>Hungary</td>\n",
              "      <td>87</td>\n",
              "      <td>1</td>\n",
              "      <td>r</td>\n",
              "      <td>Péter Gulácsi</td>\n",
              "      <td>2:0</td>\n",
              "      <td>3:0</td>\n",
              "    </tr>\n",
              "    <tr>\n",
              "      <th>3</th>\n",
              "      <td>18/19</td>\n",
              "      <td>2019-11-14</td>\n",
              "      <td>European Qualifiers</td>\n",
              "      <td>Portugal</td>\n",
              "      <td>Lithuania</td>\n",
              "      <td>7</td>\n",
              "      <td>1</td>\n",
              "      <td>r</td>\n",
              "      <td>Ernestas Setkus</td>\n",
              "      <td>1:0</td>\n",
              "      <td>6:0</td>\n",
              "    </tr>\n",
              "    <tr>\n",
              "      <th>4</th>\n",
              "      <td>18/19</td>\n",
              "      <td>2019-10-14</td>\n",
              "      <td>European Qualifiers</td>\n",
              "      <td>Portugal</td>\n",
              "      <td>Ukraine</td>\n",
              "      <td>73</td>\n",
              "      <td>1</td>\n",
              "      <td>r</td>\n",
              "      <td>Andriy Pyatov</td>\n",
              "      <td>1:2</td>\n",
              "      <td>1:2</td>\n",
              "    </tr>\n",
              "  </tbody>\n",
              "</table>\n",
              "</div>"
            ],
            "text/plain": [
              "  Temporada       Data  ... Placar no momento Resultado Final\n",
              "0     20/21 2021-06-23  ...               2:2             2:2\n",
              "1     20/21 2021-06-23  ...               1:0             2:2\n",
              "2     20/21 2021-06-15  ...               2:0             3:0\n",
              "3     18/19 2019-11-14  ...               1:0             6:0\n",
              "4     18/19 2019-10-14  ...               1:2             1:2\n",
              "\n",
              "[5 rows x 11 columns]"
            ]
          },
          "metadata": {},
          "execution_count": 430
        }
      ]
    },
    {
      "cell_type": "code",
      "metadata": {
        "colab": {
          "base_uri": "https://localhost:8080/",
          "height": 204
        },
        "id": "GLsr1NEfOhXY",
        "outputId": "df06c89e-374f-4dec-b3ce-7b1e5140046e"
      },
      "source": [
        "df_manchesterU = df[df['Clube'] == 'Manchester United']\n",
        "df_manchesterU.reset_index(drop = True, inplace = True)\n",
        "df_manchesterU.head()"
      ],
      "execution_count": 431,
      "outputs": [
        {
          "output_type": "execute_result",
          "data": {
            "text/html": [
              "<div>\n",
              "<style scoped>\n",
              "    .dataframe tbody tr th:only-of-type {\n",
              "        vertical-align: middle;\n",
              "    }\n",
              "\n",
              "    .dataframe tbody tr th {\n",
              "        vertical-align: top;\n",
              "    }\n",
              "\n",
              "    .dataframe thead th {\n",
              "        text-align: right;\n",
              "    }\n",
              "</style>\n",
              "<table border=\"1\" class=\"dataframe\">\n",
              "  <thead>\n",
              "    <tr style=\"text-align: right;\">\n",
              "      <th></th>\n",
              "      <th>Temporada</th>\n",
              "      <th>Data</th>\n",
              "      <th>Competicao</th>\n",
              "      <th>Clube</th>\n",
              "      <th>Adversario</th>\n",
              "      <th>Minuto</th>\n",
              "      <th>Gol?</th>\n",
              "      <th>Pe</th>\n",
              "      <th>Goleiro</th>\n",
              "      <th>Placar no momento</th>\n",
              "      <th>Resultado Final</th>\n",
              "    </tr>\n",
              "  </thead>\n",
              "  <tbody>\n",
              "    <tr>\n",
              "      <th>0</th>\n",
              "      <td>08/09</td>\n",
              "      <td>2009-04-25</td>\n",
              "      <td>Premier League</td>\n",
              "      <td>Manchester United</td>\n",
              "      <td>Tottenham Hotspur</td>\n",
              "      <td>57</td>\n",
              "      <td>1</td>\n",
              "      <td>r</td>\n",
              "      <td>Heurelho Gomes</td>\n",
              "      <td>1:2</td>\n",
              "      <td>5:2</td>\n",
              "    </tr>\n",
              "    <tr>\n",
              "      <th>1</th>\n",
              "      <td>08/09</td>\n",
              "      <td>2009-03-14</td>\n",
              "      <td>Premier League</td>\n",
              "      <td>Manchester United</td>\n",
              "      <td>Liverpool FC</td>\n",
              "      <td>22</td>\n",
              "      <td>1</td>\n",
              "      <td>r</td>\n",
              "      <td>Pepe Reina</td>\n",
              "      <td>1:0</td>\n",
              "      <td>1:4</td>\n",
              "    </tr>\n",
              "    <tr>\n",
              "      <th>2</th>\n",
              "      <td>08/09</td>\n",
              "      <td>2009-01-31</td>\n",
              "      <td>Premier League</td>\n",
              "      <td>Manchester United</td>\n",
              "      <td>Everton FC</td>\n",
              "      <td>43</td>\n",
              "      <td>1</td>\n",
              "      <td>r</td>\n",
              "      <td>Tim Howard</td>\n",
              "      <td>1:0</td>\n",
              "      <td>1:0</td>\n",
              "    </tr>\n",
              "    <tr>\n",
              "      <th>3</th>\n",
              "      <td>08/09</td>\n",
              "      <td>2009-01-20</td>\n",
              "      <td>EFL Cup</td>\n",
              "      <td>Manchester United</td>\n",
              "      <td>Derby County</td>\n",
              "      <td>89</td>\n",
              "      <td>1</td>\n",
              "      <td>r</td>\n",
              "      <td>Roy Carroll</td>\n",
              "      <td>4:1</td>\n",
              "      <td>4:2</td>\n",
              "    </tr>\n",
              "    <tr>\n",
              "      <th>4</th>\n",
              "      <td>08/09</td>\n",
              "      <td>2008-09-27</td>\n",
              "      <td>Premier League</td>\n",
              "      <td>Manchester United</td>\n",
              "      <td>Bolton Wanderers</td>\n",
              "      <td>59</td>\n",
              "      <td>1</td>\n",
              "      <td>r</td>\n",
              "      <td>Jussi Jääskeläinen</td>\n",
              "      <td>1:0</td>\n",
              "      <td>2:0</td>\n",
              "    </tr>\n",
              "  </tbody>\n",
              "</table>\n",
              "</div>"
            ],
            "text/plain": [
              "  Temporada       Data  ... Placar no momento Resultado Final\n",
              "0     08/09 2009-04-25  ...               1:2             5:2\n",
              "1     08/09 2009-03-14  ...               1:0             1:4\n",
              "2     08/09 2009-01-31  ...               1:0             1:0\n",
              "3     08/09 2009-01-20  ...               4:1             4:2\n",
              "4     08/09 2008-09-27  ...               1:0             2:0\n",
              "\n",
              "[5 rows x 11 columns]"
            ]
          },
          "metadata": {},
          "execution_count": 431
        }
      ]
    },
    {
      "cell_type": "code",
      "metadata": {
        "colab": {
          "base_uri": "https://localhost:8080/",
          "height": 204
        },
        "id": "KrG_e_wbTNgQ",
        "outputId": "babd5500-0b2e-4c99-aec6-54b48bb05a97"
      },
      "source": [
        "df_real_madrid = df[df['Clube'] == 'Real Madrid']\n",
        "df_real_madrid.reset_index(drop = True, inplace = True)\n",
        "df_real_madrid.head()"
      ],
      "execution_count": 432,
      "outputs": [
        {
          "output_type": "execute_result",
          "data": {
            "text/html": [
              "<div>\n",
              "<style scoped>\n",
              "    .dataframe tbody tr th:only-of-type {\n",
              "        vertical-align: middle;\n",
              "    }\n",
              "\n",
              "    .dataframe tbody tr th {\n",
              "        vertical-align: top;\n",
              "    }\n",
              "\n",
              "    .dataframe thead th {\n",
              "        text-align: right;\n",
              "    }\n",
              "</style>\n",
              "<table border=\"1\" class=\"dataframe\">\n",
              "  <thead>\n",
              "    <tr style=\"text-align: right;\">\n",
              "      <th></th>\n",
              "      <th>Temporada</th>\n",
              "      <th>Data</th>\n",
              "      <th>Competicao</th>\n",
              "      <th>Clube</th>\n",
              "      <th>Adversario</th>\n",
              "      <th>Minuto</th>\n",
              "      <th>Gol?</th>\n",
              "      <th>Pe</th>\n",
              "      <th>Goleiro</th>\n",
              "      <th>Placar no momento</th>\n",
              "      <th>Resultado Final</th>\n",
              "    </tr>\n",
              "  </thead>\n",
              "  <tbody>\n",
              "    <tr>\n",
              "      <th>0</th>\n",
              "      <td>17/18</td>\n",
              "      <td>2018-04-11</td>\n",
              "      <td>UEFA Champions League</td>\n",
              "      <td>Real Madrid</td>\n",
              "      <td>Juventus FC</td>\n",
              "      <td>90</td>\n",
              "      <td>1</td>\n",
              "      <td>r</td>\n",
              "      <td>Gianluigi Buffon</td>\n",
              "      <td>1:3</td>\n",
              "      <td>1:3</td>\n",
              "    </tr>\n",
              "    <tr>\n",
              "      <th>1</th>\n",
              "      <td>17/18</td>\n",
              "      <td>2018-02-14</td>\n",
              "      <td>UEFA Champions League</td>\n",
              "      <td>Real Madrid</td>\n",
              "      <td>Paris Saint-Germain</td>\n",
              "      <td>45</td>\n",
              "      <td>1</td>\n",
              "      <td>r</td>\n",
              "      <td>Alphonse Areola</td>\n",
              "      <td>1:1</td>\n",
              "      <td>3:1</td>\n",
              "    </tr>\n",
              "    <tr>\n",
              "      <th>2</th>\n",
              "      <td>17/18</td>\n",
              "      <td>2018-01-27</td>\n",
              "      <td>LaLiga</td>\n",
              "      <td>Real Madrid</td>\n",
              "      <td>Valencia CF</td>\n",
              "      <td>16</td>\n",
              "      <td>1</td>\n",
              "      <td>r</td>\n",
              "      <td>Neto</td>\n",
              "      <td>1:0</td>\n",
              "      <td>4:1</td>\n",
              "    </tr>\n",
              "    <tr>\n",
              "      <th>3</th>\n",
              "      <td>17/18</td>\n",
              "      <td>2018-01-27</td>\n",
              "      <td>LaLiga</td>\n",
              "      <td>Real Madrid</td>\n",
              "      <td>Valencia CF</td>\n",
              "      <td>38</td>\n",
              "      <td>1</td>\n",
              "      <td>r</td>\n",
              "      <td>Neto</td>\n",
              "      <td>2:0</td>\n",
              "      <td>4:1</td>\n",
              "    </tr>\n",
              "    <tr>\n",
              "      <th>4</th>\n",
              "      <td>17/18</td>\n",
              "      <td>2017-12-09</td>\n",
              "      <td>LaLiga</td>\n",
              "      <td>Real Madrid</td>\n",
              "      <td>Sevilla FC</td>\n",
              "      <td>31</td>\n",
              "      <td>1</td>\n",
              "      <td>r</td>\n",
              "      <td>Sergio Rico</td>\n",
              "      <td>3:0</td>\n",
              "      <td>5:0</td>\n",
              "    </tr>\n",
              "  </tbody>\n",
              "</table>\n",
              "</div>"
            ],
            "text/plain": [
              "  Temporada       Data  ... Placar no momento Resultado Final\n",
              "0     17/18 2018-04-11  ...               1:3             1:3\n",
              "1     17/18 2018-02-14  ...               1:1             3:1\n",
              "2     17/18 2018-01-27  ...               1:0             4:1\n",
              "3     17/18 2018-01-27  ...               2:0             4:1\n",
              "4     17/18 2017-12-09  ...               3:0             5:0\n",
              "\n",
              "[5 rows x 11 columns]"
            ]
          },
          "metadata": {},
          "execution_count": 432
        }
      ]
    },
    {
      "cell_type": "code",
      "metadata": {
        "colab": {
          "base_uri": "https://localhost:8080/",
          "height": 204
        },
        "id": "PIOxh63qT5n2",
        "outputId": "23d0394f-95e6-4397-e774-fc850b9ec410"
      },
      "source": [
        "df_juventus = df[df['Clube'] == 'Juventus FC']\n",
        "df_juventus.reset_index(drop = True, inplace = True)\n",
        "df_juventus.head()"
      ],
      "execution_count": 433,
      "outputs": [
        {
          "output_type": "execute_result",
          "data": {
            "text/html": [
              "<div>\n",
              "<style scoped>\n",
              "    .dataframe tbody tr th:only-of-type {\n",
              "        vertical-align: middle;\n",
              "    }\n",
              "\n",
              "    .dataframe tbody tr th {\n",
              "        vertical-align: top;\n",
              "    }\n",
              "\n",
              "    .dataframe thead th {\n",
              "        text-align: right;\n",
              "    }\n",
              "</style>\n",
              "<table border=\"1\" class=\"dataframe\">\n",
              "  <thead>\n",
              "    <tr style=\"text-align: right;\">\n",
              "      <th></th>\n",
              "      <th>Temporada</th>\n",
              "      <th>Data</th>\n",
              "      <th>Competicao</th>\n",
              "      <th>Clube</th>\n",
              "      <th>Adversario</th>\n",
              "      <th>Minuto</th>\n",
              "      <th>Gol?</th>\n",
              "      <th>Pe</th>\n",
              "      <th>Goleiro</th>\n",
              "      <th>Placar no momento</th>\n",
              "      <th>Resultado Final</th>\n",
              "    </tr>\n",
              "  </thead>\n",
              "  <tbody>\n",
              "    <tr>\n",
              "      <th>0</th>\n",
              "      <td>20/21</td>\n",
              "      <td>2021-05-15</td>\n",
              "      <td>Serie A</td>\n",
              "      <td>Juventus FC</td>\n",
              "      <td>Inter Milan</td>\n",
              "      <td>24</td>\n",
              "      <td>0</td>\n",
              "      <td>r</td>\n",
              "      <td>Samir Handanovic</td>\n",
              "      <td>1:0</td>\n",
              "      <td>3:2</td>\n",
              "    </tr>\n",
              "    <tr>\n",
              "      <th>1</th>\n",
              "      <td>20/21</td>\n",
              "      <td>2021-05-02</td>\n",
              "      <td>Serie A</td>\n",
              "      <td>Juventus FC</td>\n",
              "      <td>Udinese Calcio</td>\n",
              "      <td>83</td>\n",
              "      <td>1</td>\n",
              "      <td>r</td>\n",
              "      <td>Simone Scuffet</td>\n",
              "      <td>1:1</td>\n",
              "      <td>2:1</td>\n",
              "    </tr>\n",
              "    <tr>\n",
              "      <th>2</th>\n",
              "      <td>20/21</td>\n",
              "      <td>2021-03-14</td>\n",
              "      <td>Serie A</td>\n",
              "      <td>Juventus FC</td>\n",
              "      <td>Cagliari Calcio</td>\n",
              "      <td>25</td>\n",
              "      <td>1</td>\n",
              "      <td>r</td>\n",
              "      <td>Alessio Cragno</td>\n",
              "      <td>2:0</td>\n",
              "      <td>3:1</td>\n",
              "    </tr>\n",
              "    <tr>\n",
              "      <th>3</th>\n",
              "      <td>20/21</td>\n",
              "      <td>2021-02-02</td>\n",
              "      <td>Coppa Italia</td>\n",
              "      <td>Juventus FC</td>\n",
              "      <td>Inter Milan</td>\n",
              "      <td>26</td>\n",
              "      <td>1</td>\n",
              "      <td>r</td>\n",
              "      <td>Samir Handanovic</td>\n",
              "      <td>1:1</td>\n",
              "      <td>2:1</td>\n",
              "    </tr>\n",
              "    <tr>\n",
              "      <th>4</th>\n",
              "      <td>20/21</td>\n",
              "      <td>2020-12-16</td>\n",
              "      <td>Serie A</td>\n",
              "      <td>Juventus FC</td>\n",
              "      <td>Atalanta BC</td>\n",
              "      <td>61</td>\n",
              "      <td>0</td>\n",
              "      <td>r</td>\n",
              "      <td>Pierluigi Gollini</td>\n",
              "      <td>1:1</td>\n",
              "      <td>1:1</td>\n",
              "    </tr>\n",
              "  </tbody>\n",
              "</table>\n",
              "</div>"
            ],
            "text/plain": [
              "  Temporada       Data  ... Placar no momento Resultado Final\n",
              "0     20/21 2021-05-15  ...               1:0             3:2\n",
              "1     20/21 2021-05-02  ...               1:1             2:1\n",
              "2     20/21 2021-03-14  ...               2:0             3:1\n",
              "3     20/21 2021-02-02  ...               1:1             2:1\n",
              "4     20/21 2020-12-16  ...               1:1             1:1\n",
              "\n",
              "[5 rows x 11 columns]"
            ]
          },
          "metadata": {},
          "execution_count": 433
        }
      ]
    },
    {
      "cell_type": "markdown",
      "metadata": {
        "id": "BbXLDdpqecKm"
      },
      "source": [
        "## Análise por clube"
      ]
    },
    {
      "cell_type": "markdown",
      "metadata": {
        "id": "HbgQRrqmZvMP"
      },
      "source": [
        "### Portugal"
      ]
    },
    {
      "cell_type": "code",
      "metadata": {
        "colab": {
          "base_uri": "https://localhost:8080/",
          "height": 204
        },
        "id": "F2W_j3HZeq7_",
        "outputId": "d4ba095f-8ce9-40b0-cb8f-a4792e11d917"
      },
      "source": [
        "df_portugal.head()"
      ],
      "execution_count": 434,
      "outputs": [
        {
          "output_type": "execute_result",
          "data": {
            "text/html": [
              "<div>\n",
              "<style scoped>\n",
              "    .dataframe tbody tr th:only-of-type {\n",
              "        vertical-align: middle;\n",
              "    }\n",
              "\n",
              "    .dataframe tbody tr th {\n",
              "        vertical-align: top;\n",
              "    }\n",
              "\n",
              "    .dataframe thead th {\n",
              "        text-align: right;\n",
              "    }\n",
              "</style>\n",
              "<table border=\"1\" class=\"dataframe\">\n",
              "  <thead>\n",
              "    <tr style=\"text-align: right;\">\n",
              "      <th></th>\n",
              "      <th>Temporada</th>\n",
              "      <th>Data</th>\n",
              "      <th>Competicao</th>\n",
              "      <th>Clube</th>\n",
              "      <th>Adversario</th>\n",
              "      <th>Minuto</th>\n",
              "      <th>Gol?</th>\n",
              "      <th>Pe</th>\n",
              "      <th>Goleiro</th>\n",
              "      <th>Placar no momento</th>\n",
              "      <th>Resultado Final</th>\n",
              "    </tr>\n",
              "  </thead>\n",
              "  <tbody>\n",
              "    <tr>\n",
              "      <th>0</th>\n",
              "      <td>20/21</td>\n",
              "      <td>2021-06-23</td>\n",
              "      <td>EURO 2020</td>\n",
              "      <td>Portugal</td>\n",
              "      <td>France</td>\n",
              "      <td>60</td>\n",
              "      <td>1</td>\n",
              "      <td>r</td>\n",
              "      <td>Hugo Lloris</td>\n",
              "      <td>2:2</td>\n",
              "      <td>2:2</td>\n",
              "    </tr>\n",
              "    <tr>\n",
              "      <th>1</th>\n",
              "      <td>20/21</td>\n",
              "      <td>2021-06-23</td>\n",
              "      <td>EURO 2020</td>\n",
              "      <td>Portugal</td>\n",
              "      <td>France</td>\n",
              "      <td>30</td>\n",
              "      <td>1</td>\n",
              "      <td>r</td>\n",
              "      <td>Hugo Lloris</td>\n",
              "      <td>1:0</td>\n",
              "      <td>2:2</td>\n",
              "    </tr>\n",
              "    <tr>\n",
              "      <th>2</th>\n",
              "      <td>20/21</td>\n",
              "      <td>2021-06-15</td>\n",
              "      <td>EURO 2020</td>\n",
              "      <td>Portugal</td>\n",
              "      <td>Hungary</td>\n",
              "      <td>87</td>\n",
              "      <td>1</td>\n",
              "      <td>r</td>\n",
              "      <td>Péter Gulácsi</td>\n",
              "      <td>2:0</td>\n",
              "      <td>3:0</td>\n",
              "    </tr>\n",
              "    <tr>\n",
              "      <th>3</th>\n",
              "      <td>18/19</td>\n",
              "      <td>2019-11-14</td>\n",
              "      <td>European Qualifiers</td>\n",
              "      <td>Portugal</td>\n",
              "      <td>Lithuania</td>\n",
              "      <td>7</td>\n",
              "      <td>1</td>\n",
              "      <td>r</td>\n",
              "      <td>Ernestas Setkus</td>\n",
              "      <td>1:0</td>\n",
              "      <td>6:0</td>\n",
              "    </tr>\n",
              "    <tr>\n",
              "      <th>4</th>\n",
              "      <td>18/19</td>\n",
              "      <td>2019-10-14</td>\n",
              "      <td>European Qualifiers</td>\n",
              "      <td>Portugal</td>\n",
              "      <td>Ukraine</td>\n",
              "      <td>73</td>\n",
              "      <td>1</td>\n",
              "      <td>r</td>\n",
              "      <td>Andriy Pyatov</td>\n",
              "      <td>1:2</td>\n",
              "      <td>1:2</td>\n",
              "    </tr>\n",
              "  </tbody>\n",
              "</table>\n",
              "</div>"
            ],
            "text/plain": [
              "  Temporada       Data  ... Placar no momento Resultado Final\n",
              "0     20/21 2021-06-23  ...               2:2             2:2\n",
              "1     20/21 2021-06-23  ...               1:0             2:2\n",
              "2     20/21 2021-06-15  ...               2:0             3:0\n",
              "3     18/19 2019-11-14  ...               1:0             6:0\n",
              "4     18/19 2019-10-14  ...               1:2             1:2\n",
              "\n",
              "[5 rows x 11 columns]"
            ]
          },
          "metadata": {},
          "execution_count": 434
        }
      ]
    },
    {
      "cell_type": "code",
      "metadata": {
        "colab": {
          "base_uri": "https://localhost:8080/"
        },
        "id": "rBg_aB0Qz0Hx",
        "outputId": "bfb84af6-380a-4ebb-c025-de35115d50a2"
      },
      "source": [
        "total_gols_portugal =  df_portugal['Gol?'].sum()\n",
        "total_cobrancas_portugal = df_portugal['Gol?'].count()\n",
        "print(f'Cobranças: {total_cobrancas_portugal} | Gols: {total_gols_portugal}')"
      ],
      "execution_count": 435,
      "outputs": [
        {
          "output_type": "stream",
          "text": [
            "Cobranças: 20 | Gols: 14\n"
          ],
          "name": "stdout"
        }
      ]
    },
    {
      "cell_type": "markdown",
      "metadata": {
        "id": "9TQW3-Bgf7X8"
      },
      "source": [
        "### Manchester United"
      ]
    },
    {
      "cell_type": "code",
      "metadata": {
        "id": "WUchWMfqH9dr",
        "colab": {
          "base_uri": "https://localhost:8080/"
        },
        "outputId": "ca8e74ab-089b-436c-e7ec-c0e1ca198883"
      },
      "source": [
        "total_cobrancas_mu = df_manchesterU['Gol?'].count()\n",
        "total_gols_mu = df_manchesterU['Gol?'].sum()\n",
        "print(f'Cobranças: {total_cobrancas_mu} | Gols: {total_gols_mu}')"
      ],
      "execution_count": 436,
      "outputs": [
        {
          "output_type": "stream",
          "text": [
            "Cobranças: 20 | Gols: 17\n"
          ],
          "name": "stdout"
        }
      ]
    },
    {
      "cell_type": "code",
      "metadata": {
        "id": "ElLgf5tkf2UF"
      },
      "source": [
        ""
      ],
      "execution_count": 436,
      "outputs": []
    },
    {
      "cell_type": "markdown",
      "metadata": {
        "id": "YLl5GfV3f-QG"
      },
      "source": [
        "### Real Madrid"
      ]
    },
    {
      "cell_type": "code",
      "metadata": {
        "colab": {
          "base_uri": "https://localhost:8080/"
        },
        "id": "HaZkUShTf_jD",
        "outputId": "fb398dc3-0732-48e5-b03e-c18e11b4b2dc"
      },
      "source": [
        "total_cobrancas_real = df_real_madrid['Gol?'].count()\n",
        "total_gols_real = df_real_madrid['Gol?'].sum()\n",
        "print(f'Cobranças: {total_cobrancas_real} | Gols: {total_gols_real}')"
      ],
      "execution_count": 437,
      "outputs": [
        {
          "output_type": "stream",
          "text": [
            "Cobranças: 92 | Gols: 79\n"
          ],
          "name": "stdout"
        }
      ]
    },
    {
      "cell_type": "code",
      "metadata": {
        "id": "oCTDcrwwgYYk"
      },
      "source": [
        ""
      ],
      "execution_count": 437,
      "outputs": []
    },
    {
      "cell_type": "markdown",
      "metadata": {
        "id": "7wDrKoO4ggVw"
      },
      "source": [
        "### Juventus"
      ]
    },
    {
      "cell_type": "code",
      "metadata": {
        "colab": {
          "base_uri": "https://localhost:8080/"
        },
        "id": "u9jlagzDghOT",
        "outputId": "d957b68a-4c86-4a81-8f8a-c017489b864b"
      },
      "source": [
        "total_cobrancas_juventus = df_juventus['Gol?'].count()\n",
        "total_gols_juventus = df_juventus['Gol?'].sum()\n",
        "print(f'Cobranças: {total_cobrancas_juventus} | Gols: {total_gols_juventus}')"
      ],
      "execution_count": 438,
      "outputs": [
        {
          "output_type": "stream",
          "text": [
            "Cobranças: 34 | Gols: 29\n"
          ],
          "name": "stdout"
        }
      ]
    },
    {
      "cell_type": "code",
      "metadata": {
        "id": "u3paZaABgvvk"
      },
      "source": [
        ""
      ],
      "execution_count": 438,
      "outputs": []
    },
    {
      "cell_type": "markdown",
      "metadata": {
        "id": "TPhZhV-ZANX3"
      },
      "source": [
        "## Gols por ano (Toda Carreira)"
      ]
    },
    {
      "cell_type": "code",
      "metadata": {
        "colab": {
          "base_uri": "https://localhost:8080/",
          "height": 204
        },
        "id": "36prlYx4_lko",
        "outputId": "776065de-ea16-4d7a-86d3-9dc90288b846"
      },
      "source": [
        "df.head()"
      ],
      "execution_count": 439,
      "outputs": [
        {
          "output_type": "execute_result",
          "data": {
            "text/html": [
              "<div>\n",
              "<style scoped>\n",
              "    .dataframe tbody tr th:only-of-type {\n",
              "        vertical-align: middle;\n",
              "    }\n",
              "\n",
              "    .dataframe tbody tr th {\n",
              "        vertical-align: top;\n",
              "    }\n",
              "\n",
              "    .dataframe thead th {\n",
              "        text-align: right;\n",
              "    }\n",
              "</style>\n",
              "<table border=\"1\" class=\"dataframe\">\n",
              "  <thead>\n",
              "    <tr style=\"text-align: right;\">\n",
              "      <th></th>\n",
              "      <th>Temporada</th>\n",
              "      <th>Data</th>\n",
              "      <th>Competicao</th>\n",
              "      <th>Clube</th>\n",
              "      <th>Adversario</th>\n",
              "      <th>Minuto</th>\n",
              "      <th>Gol?</th>\n",
              "      <th>Pe</th>\n",
              "      <th>Goleiro</th>\n",
              "      <th>Placar no momento</th>\n",
              "      <th>Resultado Final</th>\n",
              "    </tr>\n",
              "  </thead>\n",
              "  <tbody>\n",
              "    <tr>\n",
              "      <th>0</th>\n",
              "      <td>20/21</td>\n",
              "      <td>2021-06-23</td>\n",
              "      <td>EURO 2020</td>\n",
              "      <td>Portugal</td>\n",
              "      <td>France</td>\n",
              "      <td>60</td>\n",
              "      <td>1</td>\n",
              "      <td>r</td>\n",
              "      <td>Hugo Lloris</td>\n",
              "      <td>2:2</td>\n",
              "      <td>2:2</td>\n",
              "    </tr>\n",
              "    <tr>\n",
              "      <th>1</th>\n",
              "      <td>20/21</td>\n",
              "      <td>2021-06-23</td>\n",
              "      <td>EURO 2020</td>\n",
              "      <td>Portugal</td>\n",
              "      <td>France</td>\n",
              "      <td>30</td>\n",
              "      <td>1</td>\n",
              "      <td>r</td>\n",
              "      <td>Hugo Lloris</td>\n",
              "      <td>1:0</td>\n",
              "      <td>2:2</td>\n",
              "    </tr>\n",
              "    <tr>\n",
              "      <th>2</th>\n",
              "      <td>20/21</td>\n",
              "      <td>2021-06-15</td>\n",
              "      <td>EURO 2020</td>\n",
              "      <td>Portugal</td>\n",
              "      <td>Hungary</td>\n",
              "      <td>87</td>\n",
              "      <td>1</td>\n",
              "      <td>r</td>\n",
              "      <td>Péter Gulácsi</td>\n",
              "      <td>2:0</td>\n",
              "      <td>3:0</td>\n",
              "    </tr>\n",
              "    <tr>\n",
              "      <th>3</th>\n",
              "      <td>20/21</td>\n",
              "      <td>2021-05-15</td>\n",
              "      <td>Serie A</td>\n",
              "      <td>Juventus FC</td>\n",
              "      <td>Inter Milan</td>\n",
              "      <td>24</td>\n",
              "      <td>0</td>\n",
              "      <td>r</td>\n",
              "      <td>Samir Handanovic</td>\n",
              "      <td>1:0</td>\n",
              "      <td>3:2</td>\n",
              "    </tr>\n",
              "    <tr>\n",
              "      <th>4</th>\n",
              "      <td>20/21</td>\n",
              "      <td>2021-05-02</td>\n",
              "      <td>Serie A</td>\n",
              "      <td>Juventus FC</td>\n",
              "      <td>Udinese Calcio</td>\n",
              "      <td>83</td>\n",
              "      <td>1</td>\n",
              "      <td>r</td>\n",
              "      <td>Simone Scuffet</td>\n",
              "      <td>1:1</td>\n",
              "      <td>2:1</td>\n",
              "    </tr>\n",
              "  </tbody>\n",
              "</table>\n",
              "</div>"
            ],
            "text/plain": [
              "  Temporada       Data  ... Placar no momento Resultado Final\n",
              "0     20/21 2021-06-23  ...               2:2             2:2\n",
              "1     20/21 2021-06-23  ...               1:0             2:2\n",
              "2     20/21 2021-06-15  ...               2:0             3:0\n",
              "3     20/21 2021-05-15  ...               1:0             3:2\n",
              "4     20/21 2021-05-02  ...               1:1             2:1\n",
              "\n",
              "[5 rows x 11 columns]"
            ]
          },
          "metadata": {},
          "execution_count": 439
        }
      ]
    },
    {
      "cell_type": "code",
      "metadata": {
        "colab": {
          "base_uri": "https://localhost:8080/"
        },
        "id": "OFzbR1mS7HVt",
        "outputId": "738335e2-35b7-400b-c9c5-77b368ae0573"
      },
      "source": [
        "cobrancas_por_ano = df.groupby(df['Data'].dt.year)['Gol?'].count()\n",
        "cobrancas_por_ano"
      ],
      "execution_count": 440,
      "outputs": [
        {
          "output_type": "execute_result",
          "data": {
            "text/plain": [
              "Data\n",
              "2005     1\n",
              "2006     3\n",
              "2007     9\n",
              "2008     5\n",
              "2009     7\n",
              "2010     8\n",
              "2011    13\n",
              "2012    12\n",
              "2013    11\n",
              "2014    14\n",
              "2015    14\n",
              "2016    13\n",
              "2017    10\n",
              "2018    10\n",
              "2019     9\n",
              "2020    20\n",
              "2021     7\n",
              "Name: Gol?, dtype: int64"
            ]
          },
          "metadata": {},
          "execution_count": 440
        }
      ]
    },
    {
      "cell_type": "code",
      "metadata": {
        "colab": {
          "base_uri": "https://localhost:8080/"
        },
        "id": "ZCcATxUp_2uG",
        "outputId": "30538bfc-cb5c-4e32-e2eb-9508e7cc5364"
      },
      "source": [
        "gols_por_ano = (df.groupby(df['Data'].dt.year)['Gol?'].sum())\n",
        "gols_por_ano"
      ],
      "execution_count": 441,
      "outputs": [
        {
          "output_type": "execute_result",
          "data": {
            "text/plain": [
              "Data\n",
              "2005     1\n",
              "2006     1\n",
              "2007     8\n",
              "2008     4\n",
              "2009     6\n",
              "2010     8\n",
              "2011    13\n",
              "2012    10\n",
              "2013     9\n",
              "2014    13\n",
              "2015    11\n",
              "2016     7\n",
              "2017     8\n",
              "2018     9\n",
              "2019     8\n",
              "2020    17\n",
              "2021     6\n",
              "Name: Gol?, dtype: int64"
            ]
          },
          "metadata": {},
          "execution_count": 441
        }
      ]
    },
    {
      "cell_type": "code",
      "metadata": {
        "id": "Tcakex8MitiG"
      },
      "source": [
        "altura_gols = []\n",
        "for i in gols_por_ano:\n",
        "  altura_gols.append(i)\n",
        "\n",
        "altura_cobrancas = []\n",
        "for i in cobrancas_por_ano:\n",
        "  altura_cobrancas.append(i)\n",
        "\n",
        "posicao = []\n",
        "for i in range(len(cobrancas_por_ano)):\n",
        "  posicao.append(i)"
      ],
      "execution_count": 442,
      "outputs": []
    },
    {
      "cell_type": "code",
      "metadata": {
        "colab": {
          "base_uri": "https://localhost:8080/",
          "height": 640
        },
        "id": "gZy37mcq9XIp",
        "outputId": "4d6b7d0c-02c6-465a-bc5d-377a4ca17faa"
      },
      "source": [
        "plt.figure(figsize = (16, 10))\n",
        "\n",
        "barWidth = 0.4\n",
        "\n",
        "r1 = np.arange(len(cobrancas_por_ano))\n",
        "r2 = [x + barWidth for x in r1]\n",
        "\n",
        "#Criando as barras\n",
        "plt.bar(r1, height = cobrancas_por_ano, color = '#116C8A', width = barWidth, label = 'Cobranças')\n",
        "plt.bar(r2, height = gols_por_ano, color = '#6495ED', width = barWidth, label = 'Gols')\n",
        "\n",
        "#Colocando titulo, eixo Y e X\n",
        "plt.title('CR7 \\nCobranças x Gols por Ano')\n",
        "plt.yticks(np.arange(0, 21))\n",
        "plt.xticks([r + 0.2 for r in range(0, 17)], np.sort(df['Data'].dt.year.unique()))\n",
        "\n",
        "#Colocando valores em cada barra\n",
        "for j in range(len(cobrancas_por_ano)):\n",
        "  plt.text(x = posicao[j]-0.1, y = altura_cobrancas[j]+0.2, s = str(cobrancas_por_ano.iloc[j]))\n",
        "\n",
        "for i in range(len(gols_por_ano)):\n",
        "  plt.text(x = posicao[i]+0.3, y = altura_gols[i]+0.2, s = str(gols_por_ano.iloc[i]))\n",
        "\n",
        "\n",
        "plt.legend()\n",
        "plt.show()\n",
        "\n",
        "plt.savefig('grafico-CobrancasXgols_porAno.png', dpi = 300)"
      ],
      "execution_count": 443,
      "outputs": [
        {
          "output_type": "display_data",
          "data": {
            "image/png": "[encoded data removed]",
            "text/plain": [
              "<Figure size 1152x720 with 1 Axes>"
            ]
          },
          "metadata": {
            "needs_background": "light"
          }
        },
        {
          "output_type": "display_data",
          "data": {
            "text/plain": [
              "<Figure size 432x288 with 0 Axes>"
            ]
          },
          "metadata": {}
        }
      ]
    },
    {
      "cell_type": "code",
      "metadata": {
        "id": "y6G75-vHqGDH"
      },
      "source": [
        ""
      ],
      "execution_count": 443,
      "outputs": []
    }
  ]
}