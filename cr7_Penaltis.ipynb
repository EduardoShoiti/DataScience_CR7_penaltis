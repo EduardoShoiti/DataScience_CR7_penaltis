{
  "nbformat": 4,
  "nbformat_minor": 0,
  "metadata": {
    "colab": {
      "name": "cr7_Penaltis.ipynb",
      "provenance": [],
      "collapsed_sections": [],
      "authorship_tag": "ABX9TyPXyd/U0BhKr0xtO69IEYcC",
      "include_colab_link": true
    },
    "kernelspec": {
      "name": "python3",
      "display_name": "Python 3"
    },
    "language_info": {
      "name": "python"
    }
  },
  "cells": [
    {
      "cell_type": "markdown",
      "metadata": {
        "id": "view-in-github",
        "colab_type": "text"
      },
      "source": [
        "<a href=\"https://colab.research.google.com/github/EduardoShoiti/DataScience_CR7_penaltis/blob/master/cr7_Penaltis.ipynb\" target=\"_parent\"><img src=\"https://colab.research.google.com/assets/colab-badge.svg\" alt=\"Open In Colab\"/></a>"
      ]
    },
    {
      "cell_type": "code",
      "metadata": {
        "id": "XyPIjG5lxFMy"
      },
      "source": [
        "import pandas as pd"
      ],
      "execution_count": 9,
      "outputs": []
    },
    {
      "cell_type": "markdown",
      "metadata": {
        "id": "BvGGDnf09J_6"
      },
      "source": [
        "## Criação do DataFrame "
      ]
    },
    {
      "cell_type": "code",
      "metadata": {
        "id": "A27RdmQCx_OE"
      },
      "source": [
        "dataset = pd.read_csv('Ronaldo_penalties.csv')"
      ],
      "execution_count": 10,
      "outputs": []
    },
    {
      "cell_type": "code",
      "metadata": {
        "colab": {
          "base_uri": "https://localhost:8080/",
          "height": 204
        },
        "id": "T7Hn37riycc5",
        "outputId": "c01765c7-67e7-4144-ba8b-9696ba3dc177"
      },
      "source": [
        "dataset.head()"
      ],
      "execution_count": 11,
      "outputs": [
        {
          "output_type": "execute_result",
          "data": {
            "text/html": [
              "<div>\n",
              "<style scoped>\n",
              "    .dataframe tbody tr th:only-of-type {\n",
              "        vertical-align: middle;\n",
              "    }\n",
              "\n",
              "    .dataframe tbody tr th {\n",
              "        vertical-align: top;\n",
              "    }\n",
              "\n",
              "    .dataframe thead th {\n",
              "        text-align: right;\n",
              "    }\n",
              "</style>\n",
              "<table border=\"1\" class=\"dataframe\">\n",
              "  <thead>\n",
              "    <tr style=\"text-align: right;\">\n",
              "      <th></th>\n",
              "      <th>Unnamed: 0</th>\n",
              "      <th>Season</th>\n",
              "      <th>Competition</th>\n",
              "      <th>Club</th>\n",
              "      <th>Against</th>\n",
              "      <th>Date</th>\n",
              "      <th>Minute</th>\n",
              "      <th>Goalkeeper</th>\n",
              "      <th>Success?</th>\n",
              "      <th>Score at this moment</th>\n",
              "      <th>Final result</th>\n",
              "      <th>Foot</th>\n",
              "      <th>Area</th>\n",
              "    </tr>\n",
              "  </thead>\n",
              "  <tbody>\n",
              "    <tr>\n",
              "      <th>0</th>\n",
              "      <td>0</td>\n",
              "      <td>20/21</td>\n",
              "      <td>EURO 2020</td>\n",
              "      <td>Portugal</td>\n",
              "      <td>France</td>\n",
              "      <td>2021-06-23</td>\n",
              "      <td>60</td>\n",
              "      <td>Hugo Lloris</td>\n",
              "      <td>1</td>\n",
              "      <td>2:2</td>\n",
              "      <td>2:2</td>\n",
              "      <td>r</td>\n",
              "      <td>1</td>\n",
              "    </tr>\n",
              "    <tr>\n",
              "      <th>1</th>\n",
              "      <td>1</td>\n",
              "      <td>20/21</td>\n",
              "      <td>EURO 2020</td>\n",
              "      <td>Portugal</td>\n",
              "      <td>France</td>\n",
              "      <td>2021-06-23</td>\n",
              "      <td>30</td>\n",
              "      <td>Hugo Lloris</td>\n",
              "      <td>1</td>\n",
              "      <td>1:0</td>\n",
              "      <td>2:2</td>\n",
              "      <td>r</td>\n",
              "      <td>1</td>\n",
              "    </tr>\n",
              "    <tr>\n",
              "      <th>2</th>\n",
              "      <td>2</td>\n",
              "      <td>20/21</td>\n",
              "      <td>EURO 2020</td>\n",
              "      <td>Portugal</td>\n",
              "      <td>Hungary</td>\n",
              "      <td>2021-06-15</td>\n",
              "      <td>87</td>\n",
              "      <td>Péter Gulácsi</td>\n",
              "      <td>1</td>\n",
              "      <td>2:0</td>\n",
              "      <td>3:0</td>\n",
              "      <td>r</td>\n",
              "      <td>5</td>\n",
              "    </tr>\n",
              "    <tr>\n",
              "      <th>3</th>\n",
              "      <td>3</td>\n",
              "      <td>20/21</td>\n",
              "      <td>Serie A</td>\n",
              "      <td>Juventus FC</td>\n",
              "      <td>Inter Milan</td>\n",
              "      <td>2021-05-15</td>\n",
              "      <td>24</td>\n",
              "      <td>Samir Handanovic</td>\n",
              "      <td>0</td>\n",
              "      <td>1:0</td>\n",
              "      <td>3:2</td>\n",
              "      <td>r</td>\n",
              "      <td>3</td>\n",
              "    </tr>\n",
              "    <tr>\n",
              "      <th>4</th>\n",
              "      <td>4</td>\n",
              "      <td>20/21</td>\n",
              "      <td>Serie A</td>\n",
              "      <td>Juventus FC</td>\n",
              "      <td>Udinese Calcio</td>\n",
              "      <td>2021-05-02</td>\n",
              "      <td>83</td>\n",
              "      <td>Simone Scuffet</td>\n",
              "      <td>1</td>\n",
              "      <td>1:1</td>\n",
              "      <td>2:1</td>\n",
              "      <td>r</td>\n",
              "      <td>1</td>\n",
              "    </tr>\n",
              "  </tbody>\n",
              "</table>\n",
              "</div>"
            ],
            "text/plain": [
              "   Unnamed: 0 Season Competition  ... Final result Foot Area\n",
              "0           0  20/21   EURO 2020  ...          2:2    r    1\n",
              "1           1  20/21   EURO 2020  ...          2:2    r    1\n",
              "2           2  20/21   EURO 2020  ...          3:0    r    5\n",
              "3           3  20/21     Serie A  ...          3:2    r    3\n",
              "4           4  20/21     Serie A  ...          2:1    r    1\n",
              "\n",
              "[5 rows x 13 columns]"
            ]
          },
          "metadata": {
            "tags": []
          },
          "execution_count": 11
        }
      ]
    },
    {
      "cell_type": "code",
      "metadata": {
        "colab": {
          "base_uri": "https://localhost:8080/"
        },
        "id": "dvGhdEJnydUo",
        "outputId": "4c1f5563-1fe4-43e6-ea62-0d34307cde42"
      },
      "source": [
        "dataset[dataset.isnull()].sum()"
      ],
      "execution_count": 12,
      "outputs": [
        {
          "output_type": "execute_result",
          "data": {
            "text/plain": [
              "Unnamed: 0              0.0\n",
              "Season                  0.0\n",
              "Competition             0.0\n",
              "Club                    0.0\n",
              "Against                 0.0\n",
              "Date                    0.0\n",
              "Minute                  0.0\n",
              "Goalkeeper              0.0\n",
              "Success?                0.0\n",
              "Score at this moment    0.0\n",
              "Final result            0.0\n",
              "Foot                    0.0\n",
              "Area                    0.0\n",
              "dtype: float64"
            ]
          },
          "metadata": {
            "tags": []
          },
          "execution_count": 12
        }
      ]
    },
    {
      "cell_type": "code",
      "metadata": {
        "id": "TLjQeLWbzIZP"
      },
      "source": [
        "df = dataset[['Season', 'Date', 'Competition', 'Club', 'Against', 'Minute', 'Success?', 'Foot', 'Goalkeeper', 'Score at this moment', 'Final result']]"
      ],
      "execution_count": 13,
      "outputs": []
    },
    {
      "cell_type": "code",
      "metadata": {
        "id": "Xyjp4vdO7icY"
      },
      "source": [
        "df.columns = ['Temporada', 'Data', 'Competicao', 'Clube', 'Adversario', 'Minuto', 'Gol?', 'Pe', 'Goleiro', 'Placar no momento', 'Resultado Final']"
      ],
      "execution_count": 14,
      "outputs": []
    },
    {
      "cell_type": "code",
      "metadata": {
        "id": "j9ie0PEJ8uzy",
        "colab": {
          "base_uri": "https://localhost:8080/",
          "height": 204
        },
        "outputId": "cf954708-41a5-4d01-9463-a5feabd3109a"
      },
      "source": [
        "df.head()"
      ],
      "execution_count": 15,
      "outputs": [
        {
          "output_type": "execute_result",
          "data": {
            "text/html": [
              "<div>\n",
              "<style scoped>\n",
              "    .dataframe tbody tr th:only-of-type {\n",
              "        vertical-align: middle;\n",
              "    }\n",
              "\n",
              "    .dataframe tbody tr th {\n",
              "        vertical-align: top;\n",
              "    }\n",
              "\n",
              "    .dataframe thead th {\n",
              "        text-align: right;\n",
              "    }\n",
              "</style>\n",
              "<table border=\"1\" class=\"dataframe\">\n",
              "  <thead>\n",
              "    <tr style=\"text-align: right;\">\n",
              "      <th></th>\n",
              "      <th>Temporada</th>\n",
              "      <th>Data</th>\n",
              "      <th>Competicao</th>\n",
              "      <th>Clube</th>\n",
              "      <th>Adversario</th>\n",
              "      <th>Minuto</th>\n",
              "      <th>Gol?</th>\n",
              "      <th>Pe</th>\n",
              "      <th>Goleiro</th>\n",
              "      <th>Placar no momento</th>\n",
              "      <th>Resultado Final</th>\n",
              "    </tr>\n",
              "  </thead>\n",
              "  <tbody>\n",
              "    <tr>\n",
              "      <th>0</th>\n",
              "      <td>20/21</td>\n",
              "      <td>2021-06-23</td>\n",
              "      <td>EURO 2020</td>\n",
              "      <td>Portugal</td>\n",
              "      <td>France</td>\n",
              "      <td>60</td>\n",
              "      <td>1</td>\n",
              "      <td>r</td>\n",
              "      <td>Hugo Lloris</td>\n",
              "      <td>2:2</td>\n",
              "      <td>2:2</td>\n",
              "    </tr>\n",
              "    <tr>\n",
              "      <th>1</th>\n",
              "      <td>20/21</td>\n",
              "      <td>2021-06-23</td>\n",
              "      <td>EURO 2020</td>\n",
              "      <td>Portugal</td>\n",
              "      <td>France</td>\n",
              "      <td>30</td>\n",
              "      <td>1</td>\n",
              "      <td>r</td>\n",
              "      <td>Hugo Lloris</td>\n",
              "      <td>1:0</td>\n",
              "      <td>2:2</td>\n",
              "    </tr>\n",
              "    <tr>\n",
              "      <th>2</th>\n",
              "      <td>20/21</td>\n",
              "      <td>2021-06-15</td>\n",
              "      <td>EURO 2020</td>\n",
              "      <td>Portugal</td>\n",
              "      <td>Hungary</td>\n",
              "      <td>87</td>\n",
              "      <td>1</td>\n",
              "      <td>r</td>\n",
              "      <td>Péter Gulácsi</td>\n",
              "      <td>2:0</td>\n",
              "      <td>3:0</td>\n",
              "    </tr>\n",
              "    <tr>\n",
              "      <th>3</th>\n",
              "      <td>20/21</td>\n",
              "      <td>2021-05-15</td>\n",
              "      <td>Serie A</td>\n",
              "      <td>Juventus FC</td>\n",
              "      <td>Inter Milan</td>\n",
              "      <td>24</td>\n",
              "      <td>0</td>\n",
              "      <td>r</td>\n",
              "      <td>Samir Handanovic</td>\n",
              "      <td>1:0</td>\n",
              "      <td>3:2</td>\n",
              "    </tr>\n",
              "    <tr>\n",
              "      <th>4</th>\n",
              "      <td>20/21</td>\n",
              "      <td>2021-05-02</td>\n",
              "      <td>Serie A</td>\n",
              "      <td>Juventus FC</td>\n",
              "      <td>Udinese Calcio</td>\n",
              "      <td>83</td>\n",
              "      <td>1</td>\n",
              "      <td>r</td>\n",
              "      <td>Simone Scuffet</td>\n",
              "      <td>1:1</td>\n",
              "      <td>2:1</td>\n",
              "    </tr>\n",
              "  </tbody>\n",
              "</table>\n",
              "</div>"
            ],
            "text/plain": [
              "  Temporada        Data  ... Placar no momento Resultado Final\n",
              "0     20/21  2021-06-23  ...               2:2             2:2\n",
              "1     20/21  2021-06-23  ...               1:0             2:2\n",
              "2     20/21  2021-06-15  ...               2:0             3:0\n",
              "3     20/21  2021-05-15  ...               1:0             3:2\n",
              "4     20/21  2021-05-02  ...               1:1             2:1\n",
              "\n",
              "[5 rows x 11 columns]"
            ]
          },
          "metadata": {
            "tags": []
          },
          "execution_count": 15
        }
      ]
    },
    {
      "cell_type": "markdown",
      "metadata": {
        "id": "5J623ePQ-ILI"
      },
      "source": [
        "## Separando tentativas de pênaltis por clube"
      ]
    },
    {
      "cell_type": "code",
      "metadata": {
        "id": "7Ddqj25mx0vF"
      },
      "source": [
        ""
      ],
      "execution_count": 15,
      "outputs": []
    }
  ]
}